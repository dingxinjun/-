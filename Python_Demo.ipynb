{
 "cells": [
  {
   "cell_type": "markdown",
   "metadata": {
    "toc": true
   },
   "source": [
    "<h1>Table of Contents<span class=\"tocSkip\"></span></h1>\n",
    "<div class=\"toc\"><ul class=\"toc-item\"><li><span><a href=\"#Installation\" data-toc-modified-id=\"Installation-1\"><span class=\"toc-item-num\">1&nbsp;&nbsp;</span>Installation</a></span></li><li><span><a href=\"#Remote-access\" data-toc-modified-id=\"Remote-access-2\"><span class=\"toc-item-num\">2&nbsp;&nbsp;</span>Remote access</a></span></li><li><span><a href=\"#The-basics\" data-toc-modified-id=\"The-basics-3\"><span class=\"toc-item-num\">3&nbsp;&nbsp;</span>The basics</a></span><ul class=\"toc-item\"><li><span><a href=\"#Open/close-with-netCDF4.Dataset\" data-toc-modified-id=\"Open/close-with-netCDF4.Dataset-3.1\"><span class=\"toc-item-num\">3.1&nbsp;&nbsp;</span>Open/close with <code>netCDF4.Dataset</code></a></span></li><li><span><a href=\"#Add-dimensions,-variables,-attributes\" data-toc-modified-id=\"Add-dimensions,-variables,-attributes-3.2\"><span class=\"toc-item-num\">3.2&nbsp;&nbsp;</span>Add dimensions, variables, attributes</a></span><ul class=\"toc-item\"><li><span><a href=\"#netCDF4.Dataset.createDimension\" data-toc-modified-id=\"netCDF4.Dataset.createDimension-3.2.1\"><span class=\"toc-item-num\">3.2.1&nbsp;&nbsp;</span><code>netCDF4.Dataset.createDimension</code></a></span></li><li><span><a href=\"#netCDF4.Dataset.createVariable\" data-toc-modified-id=\"netCDF4.Dataset.createVariable-3.2.2\"><span class=\"toc-item-num\">3.2.2&nbsp;&nbsp;</span><code>netCDF4.Dataset.createVariable</code></a></span></li></ul></li></ul></li><li><span><a href=\"#Write-a-netCDF-from-a-set-of-GeoTIFFs\" data-toc-modified-id=\"Write-a-netCDF-from-a-set-of-GeoTIFFs-4\"><span class=\"toc-item-num\">4&nbsp;&nbsp;</span>Write a netCDF from a set of GeoTIFFs</a></span><ul class=\"toc-item\"><li><span><a href=\"#Requirements\" data-toc-modified-id=\"Requirements-4.1\"><span class=\"toc-item-num\">4.1&nbsp;&nbsp;</span>Requirements</a></span></li><li><span><a href=\"#Coordinates\" data-toc-modified-id=\"Coordinates-4.2\"><span class=\"toc-item-num\">4.2&nbsp;&nbsp;</span>Coordinates</a></span><ul class=\"toc-item\"><li><span><a href=\"#Time\" data-toc-modified-id=\"Time-4.2.1\"><span class=\"toc-item-num\">4.2.1&nbsp;&nbsp;</span>Time</a></span></li><li><span><a href=\"#Spatial-characteristics\" data-toc-modified-id=\"Spatial-characteristics-4.2.2\"><span class=\"toc-item-num\">4.2.2&nbsp;&nbsp;</span>Spatial characteristics</a></span></li></ul></li><li><span><a href=\"#Open-a-netCDF-for-writing\" data-toc-modified-id=\"Open-a-netCDF-for-writing-4.3\"><span class=\"toc-item-num\">4.3&nbsp;&nbsp;</span>Open a netCDF for writing</a></span></li><li><span><a href=\"#Add-dimensions\" data-toc-modified-id=\"Add-dimensions-4.4\"><span class=\"toc-item-num\">4.4&nbsp;&nbsp;</span>Add dimensions</a></span></li><li><span><a href=\"#Add-coordinate-variables\" data-toc-modified-id=\"Add-coordinate-variables-4.5\"><span class=\"toc-item-num\">4.5&nbsp;&nbsp;</span>Add coordinate variables</a></span><ul class=\"toc-item\"><li><span><a href=\"#time\" data-toc-modified-id=\"time-4.5.1\"><span class=\"toc-item-num\">4.5.1&nbsp;&nbsp;</span>time</a></span></li><li><span><a href=\"#time_bnds\" data-toc-modified-id=\"time_bnds-4.5.2\"><span class=\"toc-item-num\">4.5.2&nbsp;&nbsp;</span>time_bnds</a></span></li><li><span><a href=\"#x-and-y\" data-toc-modified-id=\"x-and-y-4.5.3\"><span class=\"toc-item-num\">4.5.3&nbsp;&nbsp;</span>x and y</a></span></li><li><span><a href=\"#lon-and-lat\" data-toc-modified-id=\"lon-and-lat-4.5.4\"><span class=\"toc-item-num\">4.5.4&nbsp;&nbsp;</span>lon and lat</a></span></li></ul></li><li><span><a href=\"#Add-crs-variable\" data-toc-modified-id=\"Add-crs-variable-4.6\"><span class=\"toc-item-num\">4.6&nbsp;&nbsp;</span>Add crs variable</a></span></li><li><span><a href=\"#Add-data-variable\" data-toc-modified-id=\"Add-data-variable-4.7\"><span class=\"toc-item-num\">4.7&nbsp;&nbsp;</span>Add data variable</a></span></li><li><span><a href=\"#Add-global-attributes\" data-toc-modified-id=\"Add-global-attributes-4.8\"><span class=\"toc-item-num\">4.8&nbsp;&nbsp;</span>Add global attributes</a></span></li><li><span><a href=\"#Close-the-file-and-check\" data-toc-modified-id=\"Close-the-file-and-check-4.9\"><span class=\"toc-item-num\">4.9&nbsp;&nbsp;</span>Close the file and check</a></span></li></ul></li><li><span><a href=\"#Write-the-netCDF-again-in-a-script!\" data-toc-modified-id=\"Write-the-netCDF-again-in-a-script!-5\"><span class=\"toc-item-num\">5&nbsp;&nbsp;</span>Write the netCDF again in a script!</a></span></li></ul></div>"
   ]
  },
  {
   "cell_type": "markdown",
   "metadata": {},
   "source": [
    "# netCDF in Python\n",
    "\n",
    "## Installation\n",
    "\n",
    "The Python interface to the netCDF4 library is called [`netCDF4`](https://unidata.github.io/netcdf4-python/netCDF4/index.html) (maintained by Unidata). Visit the documentation at the link to read more.\n",
    "\n",
    "Install with pip:\n",
    "```shell\n",
    "pip install netCDF4\n",
    "```\n",
    "\n",
    "Install with conda:\n",
    "```shell\n",
    "conda install netCDF4\n",
    "```\n",
    "\n",
    "## Remote access\n",
    "\n",
    "Remember those awesome features of netCDF that Michele mentioned? They're all available to you through Python!\n",
    "\n",
    "This is the published version of the file from our example data that is equivalent to the one that Michele just made in her demo. It's accessible through THREDDS, and **we can read the data directly from the web via OPeNDAP**:"
   ]
  },
  {
   "cell_type": "code",
   "execution_count": 1,
   "metadata": {
    "ExecuteTime": {
     "end_time": "2019-09-09T15:41:17.503535Z",
     "start_time": "2019-09-09T15:41:17.091087Z"
    }
   },
   "outputs": [
    {
     "data": {
      "text/plain": [
       "<class 'netCDF4._netCDF4.Dataset'>\n",
       "root group (NETCDF3_CLASSIC data model, file format DAP2):\n",
       "    _NCProperties: version=1|netcdflibversion=4.4.1|hdf5libversion=1.8.17\n",
       "    Conventions: CF-1.6\n",
       "    institution: University of Washington\n",
       "    references: Mahoney, P., Liston, G., Mangipane, B., Prugh, L.\n",
       "    project: Arctic-Boreal Vulnerability Experiment (ABoVE)\n",
       "    contact: pmahoney29@gmail.com\n",
       "    title: Navigating Snowscapes: Scale-Dependent Responses of Mountain Sheep to Snowpack Properties\n",
       "    DODS.strlen: 0\n",
       "    dimensions(sizes): maxStrlen64(64), nv(2), time(365), x(160), y(240)\n",
       "    variables(dimensions): |S1 \u001b[4malbers_conical_equal_area\u001b[0m(maxStrlen64), float64 \u001b[4mtime\u001b[0m(time), int32 \u001b[4mtime_bnds\u001b[0m(time,nv), float64 \u001b[4mx\u001b[0m(x), int32 \u001b[4my\u001b[0m(y), float32 \u001b[4mSnowDepth_500m\u001b[0m(time,y,x), float64 \u001b[4mlat\u001b[0m(y,x), float64 \u001b[4mlon\u001b[0m(y,x)\n",
       "    groups: "
      ]
     },
     "execution_count": 1,
     "metadata": {},
     "output_type": "execute_result"
    }
   ],
   "source": [
    "import netCDF4 as nc4\n",
    "\n",
    "# Open remote url to the file published on THREDDS.\n",
    "publishedds = nc4.Dataset( \n",
    "    'https://thredds.daac.ornl.gov/thredds/dodsC/'\n",
    "    'ornldaac/1602/snow_depth_00500m_2006.nc4' ) \n",
    "\n",
    "publishedds # Display the header."
   ]
  },
  {
   "cell_type": "markdown",
   "metadata": {},
   "source": [
    "Note that the staff member that was responsible for this dataset made a few different choices in the structuring of the final copy of the netCDF. This drives home the point that netCDF is very flexible and powerful. So be a responsible user of netCDF and remember to format your files in a well-documented, consistent manner!\n",
    "\n",
    "**Pull the data for the first timestep:**"
   ]
  },
  {
   "cell_type": "code",
   "execution_count": 2,
   "metadata": {
    "ExecuteTime": {
     "end_time": "2019-09-09T15:41:17.614518Z",
     "start_time": "2019-09-09T15:41:17.507454Z"
    }
   },
   "outputs": [
    {
     "data": {
      "text/plain": [
       "masked_array(\n",
       "  data=[[ 8.66,  8.65,  8.71, ..., 77.86, 79.  , 79.89],\n",
       "        [ 8.51,  8.51,  8.55, ..., 81.88, 78.94, 81.5 ],\n",
       "        [23.18,  8.41,  8.42, ..., 84.29, 92.59, 84.35],\n",
       "        ...,\n",
       "        [14.78, 14.94, 15.27, ..., 74.52, 79.63, 74.94],\n",
       "        [15.3 , 13.95,  4.61, ..., 69.66, 65.08, 60.02],\n",
       "        [ 4.14,  4.93,  5.84, ..., 67.21, 66.26, 89.39]],\n",
       "  mask=False,\n",
       "  fill_value=1e+20,\n",
       "  dtype=float32)"
      ]
     },
     "execution_count": 2,
     "metadata": {},
     "output_type": "execute_result"
    }
   ],
   "source": [
    "publishedarr = publishedds.variables[\"SnowDepth_500m\"][0]\n",
    "\n",
    "publishedarr"
   ]
  },
  {
   "cell_type": "markdown",
   "metadata": {},
   "source": [
    "**and plot with `matplotlib`:**"
   ]
  },
  {
   "cell_type": "code",
   "execution_count": 3,
   "metadata": {
    "ExecuteTime": {
     "end_time": "2019-09-09T15:41:18.657227Z",
     "start_time": "2019-09-09T15:41:17.617661Z"
    }
   },
   "outputs": [
    {
     "data": {
      "text/plain": [
       "<matplotlib.image.AxesImage at 0x242666b5688>"
      ]
     },
     "execution_count": 3,
     "metadata": {},
     "output_type": "execute_result"
    },
    {
     "data": {
      "image/png": "[encoded data removed]",
      "text/plain": [
       "<Figure size 360x720 with 1 Axes>"
      ]
     },
     "metadata": {
      "needs_background": "light"
     },
     "output_type": "display_data"
    }
   ],
   "source": [
    "%matplotlib inline\n",
    "import matplotlib.pyplot as plt\n",
    "\n",
    "fig = plt.figure(figsize=(5, 10))\n",
    "plt.imshow(publishedarr, cmap=\"jet\")"
   ]
  },
  {
   "cell_type": "markdown",
   "metadata": {},
   "source": [
    "Close the dataset:"
   ]
  },
  {
   "cell_type": "code",
   "execution_count": 4,
   "metadata": {
    "ExecuteTime": {
     "end_time": "2019-09-09T15:41:18.672696Z",
     "start_time": "2019-09-09T15:41:18.662260Z"
    }
   },
   "outputs": [],
   "source": [
    "publishedds.close()"
   ]
  },
  {
   "cell_type": "markdown",
   "metadata": {},
   "source": [
    "## The basics\n",
    "\n",
    "### Open/close with `netCDF4.Dataset`\n",
    "\n",
    "Calling the `Dataset` constructor with a file path and a keyword argument `mode=<'r', 'w' ['r+', 'a']>` opens a netCDF for reading or writing. Here I've omitted the path argument (giving `None` instead) because I don't plan to write this example to disk:"
   ]
  },
  {
   "cell_type": "code",
   "execution_count": 5,
   "metadata": {
    "ExecuteTime": {
     "end_time": "2019-09-09T15:41:18.697288Z",
     "start_time": "2019-09-09T15:41:18.679083Z"
    }
   },
   "outputs": [
    {
     "data": {
      "text/plain": [
       "<class 'netCDF4._netCDF4.Dataset'>\n",
       "root group (NETCDF4 data model, file format HDF5):\n",
       "    dimensions(sizes): \n",
       "    variables(dimensions): \n",
       "    groups: "
      ]
     },
     "execution_count": 5,
     "metadata": {},
     "output_type": "execute_result"
    }
   ],
   "source": [
    "nc = nc4.Dataset(\"MyFirstNetCDF.nc\", \"w\")  \n",
    "\n",
    "nc"
   ]
  },
  {
   "cell_type": "markdown",
   "metadata": {},
   "source": [
    "The empty `netCDF4.Dataset` has no dimensions, variables, or groups.\n",
    "\n",
    "You should always remember to close any open datasets when you are finished working:"
   ]
  },
  {
   "cell_type": "code",
   "execution_count": 6,
   "metadata": {
    "ExecuteTime": {
     "end_time": "2019-09-09T15:41:18.709227Z",
     "start_time": "2019-09-09T15:41:18.699991Z"
    }
   },
   "outputs": [],
   "source": [
    "nc.close()"
   ]
  },
  {
   "cell_type": "markdown",
   "metadata": {},
   "source": [
    "And the dataset is no longer accessible:"
   ]
  },
  {
   "cell_type": "code",
   "execution_count": 7,
   "metadata": {
    "ExecuteTime": {
     "end_time": "2019-09-09T15:41:18.726003Z",
     "start_time": "2019-09-09T15:41:18.712511Z"
    }
   },
   "outputs": [
    {
     "name": "stdout",
     "output_type": "stream",
     "text": [
      "Yep, this threw an error!\n"
     ]
    }
   ],
   "source": [
    "try:\n",
    "    print(nc)\n",
    "except:\n",
    "    print(\"Yep, this threw an error!\")"
   ]
  },
  {
   "cell_type": "markdown",
   "metadata": {},
   "source": [
    "Context is managed using the `with` statement, so you can do all of your work inside `with` and the file will close automatically:"
   ]
  },
  {
   "cell_type": "code",
   "execution_count": 8,
   "metadata": {
    "ExecuteTime": {
     "end_time": "2019-09-09T15:41:18.742366Z",
     "start_time": "2019-09-09T15:41:18.732127Z"
    }
   },
   "outputs": [
    {
     "name": "stdout",
     "output_type": "stream",
     "text": [
      "<class 'netCDF4._netCDF4.Dataset'>\n",
      "root group (NETCDF4 data model, file format HDF5):\n",
      "    dimensions(sizes): \n",
      "    variables(dimensions): \n",
      "    groups: \n",
      "\n"
     ]
    }
   ],
   "source": [
    "with nc4.Dataset(\"MyFirstNetCDF.nc\", \"w\") as nc:\n",
    "    print(nc)"
   ]
  },
  {
   "cell_type": "markdown",
   "metadata": {},
   "source": [
    "And the dataset is no longer accessible, so the following call to `netCDF.Dataset.close()` will throw an error:"
   ]
  },
  {
   "cell_type": "code",
   "execution_count": 9,
   "metadata": {
    "ExecuteTime": {
     "end_time": "2019-09-09T15:41:18.757722Z",
     "start_time": "2019-09-09T15:41:18.748619Z"
    }
   },
   "outputs": [
    {
     "name": "stdout",
     "output_type": "stream",
     "text": [
      "Yep, this threw another error!\n"
     ]
    }
   ],
   "source": [
    "try:\n",
    "    nc.close()\n",
    "except:\n",
    "    print(\"Yep, this threw another error!\")"
   ]
  },
  {
   "cell_type": "markdown",
   "metadata": {},
   "source": [
    "The rest of these examples will take place inside the `with` statement so we don't have to worry about opening/closing manually.\n",
    "\n",
    "### Add dimensions, variables, attributes\n",
    "\n",
    "Dimensions and variables are created by calling the [`createDimension`](https://unidata.github.io/netcdf4-python/netCDF4/index.html#netCDF4.Dataset.createDimension) and [`createVariable`](https://unidata.github.io/netcdf4-python/netCDF4/index.html#netCDF4.Dataset.createVariable) methods of the [`netCDF4.Dataset`](https://unidata.github.io/netcdf4-python/netCDF4/index.html#netCDF4.Dataset) constructor. \n",
    "\n",
    "Say we have this simple 4x4 raster:"
   ]
  },
  {
   "cell_type": "code",
   "execution_count": 10,
   "metadata": {
    "ExecuteTime": {
     "end_time": "2019-09-09T15:41:18.777104Z",
     "start_time": "2019-09-09T15:41:18.765377Z"
    }
   },
   "outputs": [
    {
     "data": {
      "text/plain": [
       "array([[ 0,  1,  2,  3],\n",
       "       [ 4,  5,  6,  7],\n",
       "       [ 8,  9, 10, 11],\n",
       "       [12, 13, 14, 15]])"
      ]
     },
     "execution_count": 10,
     "metadata": {},
     "output_type": "execute_result"
    }
   ],
   "source": [
    "import numpy as np\n",
    "\n",
    "np.arange(16).reshape(4,4)"
   ]
  },
  {
   "cell_type": "markdown",
   "metadata": {},
   "source": [
    "The netCDF that stores this raster must have (at least) two dimensions of size=4. \n",
    "\n",
    "#### `netCDF4.Dataset.createDimension`\n",
    "\n",
    "Here is how you would open the file and add the two dimensions:"
   ]
  },
  {
   "cell_type": "code",
   "execution_count": 11,
   "metadata": {
    "ExecuteTime": {
     "end_time": "2019-09-09T15:41:18.804666Z",
     "start_time": "2019-09-09T15:41:18.783865Z"
    }
   },
   "outputs": [
    {
     "data": {
      "text/plain": [
       "OrderedDict([('y', <class 'netCDF4._netCDF4.Dimension'>: name = 'y', size = 4),\n",
       "             ('x',\n",
       "              <class 'netCDF4._netCDF4.Dimension'>: name = 'x', size = 4)])"
      ]
     },
     "execution_count": 11,
     "metadata": {},
     "output_type": "execute_result"
    }
   ],
   "source": [
    "nc = nc4.Dataset(\"MyFirstNetCDF.nc\", \"w\") # Open a netCDF for writing.\n",
    "\n",
    "nc.createDimension(\"y\", 4)                # Add a y dimension, size 4.\n",
    "nc.createDimension(\"x\", 4)                # Add an x dimension, size 4.\n",
    "    \n",
    "nc.dimensions"
   ]
  },
  {
   "cell_type": "markdown",
   "metadata": {},
   "source": [
    "Note the two dimensions named `x` and `y` in resulting file. The [`netCDF.Dataset.createDimension`](https://unidata.github.io/netcdf4-python/netCDF4/index.html#netCDF4.Dataset.createDimension) method takes two arguments:\n",
    "* dimension name\n",
    "* dimension size\n",
    "\n",
    "*Note: If you do not specify a size for the dimension, netCDF will assume that the dimension is UNLIMITED when it writes the file.* \n",
    "\n",
    "#### `netCDF4.Dataset.createVariable`\n",
    "\n",
    "The netCDF created in the last step can accomodate the 4x4 array, so make a new variable inside the dataset using [`netCDF.Dataset.createVariable`](https://unidata.github.io/netcdf4-python/netCDF4/index.html#netCDF4.Dataset.createVariable) and add the raster to this new variable.\n",
    "\n",
    "Here we add `MyVariable`, which stores 16-bit integers on y and x:"
   ]
  },
  {
   "cell_type": "code",
   "execution_count": 12,
   "metadata": {
    "ExecuteTime": {
     "end_time": "2019-09-09T15:41:18.825031Z",
     "start_time": "2019-09-09T15:41:18.807547Z"
    }
   },
   "outputs": [
    {
     "data": {
      "text/plain": [
       "<class 'netCDF4._netCDF4.Variable'>\n",
       "int16 MyVariable(y, x)\n",
       "unlimited dimensions: \n",
       "current shape = (4, 4)\n",
       "filling on, default _FillValue of -32767 used"
      ]
     },
     "execution_count": 12,
     "metadata": {},
     "output_type": "execute_result"
    }
   ],
   "source": [
    "var = nc.createVariable(\"MyVariable\", \"i2\", (\"y\", \"x\")) \n",
    "var"
   ]
  },
  {
   "cell_type": "markdown",
   "metadata": {},
   "source": [
    "As you can see, the dataset now how a variable called *MyVariable* (argument 1: `\"MyVariable\"`) that stores integers (argument 2: `\"i2\"`) mapped to the dimensions *x* and *y* (argument 3: `(\"y\", \"x\")`). The `createVariable` method has several other optional arguments that provide important functionality like assigning the fill value and setting compression level, among other things, so please check out the [documentation](https://unidata.github.io/netcdf4-python/netCDF4/index.html#netCDF4.Dataset.createVariable) for more info.\n",
    "\n",
    "But, we didn't add the data last time! Add the array from before: "
   ]
  },
  {
   "cell_type": "code",
   "execution_count": 13,
   "metadata": {
    "ExecuteTime": {
     "end_time": "2019-09-09T15:41:18.845485Z",
     "start_time": "2019-09-09T15:41:18.830447Z"
    }
   },
   "outputs": [
    {
     "name": "stdout",
     "output_type": "stream",
     "text": [
      "[[ 0  1  2  3]\n",
      " [ 4  5  6  7]\n",
      " [ 8  9 10 11]\n",
      " [12 13 14 15]]\n"
     ]
    }
   ],
   "source": [
    "var[:,:] = np.arange(16).reshape(4,4) # Add array to 'MyVariable'.\n",
    "print(var[:,:])                       # Print 'MyVariable's array."
   ]
  },
  {
   "cell_type": "markdown",
   "metadata": {},
   "source": [
    "The indices of the Python variable `var` determine the destination of the input data.\n",
    "\n",
    "I created the variable and assigned its reference to the Python variable `var`. Then I set the values of `var` using the two colons separated by a comma, which indicates the incoming data values span the full length of each dimension of the variable. \n",
    "\n",
    "I can modify the data at a specific position using the same indexing method:"
   ]
  },
  {
   "cell_type": "code",
   "execution_count": 14,
   "metadata": {
    "ExecuteTime": {
     "end_time": "2019-09-09T15:41:18.861468Z",
     "start_time": "2019-09-09T15:41:18.849708Z"
    }
   },
   "outputs": [
    {
     "name": "stdout",
     "output_type": "stream",
     "text": [
      "[[    0     1 -9999     3]\n",
      " [    4     5 -9999     7]\n",
      " [    8     9 -9999    11]\n",
      " [   12    13 -9999    15]]\n"
     ]
    }
   ],
   "source": [
    "var[:,2] = -9999                      # Set third col's values to -9999.\n",
    "print(var[:,:])                       # Print the array again."
   ]
  },
  {
   "cell_type": "markdown",
   "metadata": {},
   "source": [
    "In the previous cell we set all of the data values at position 2 along the `x` dimension to -9999. We must have identified some error associated with the data at these positions and decided to assign a fill value instead of storing bad data. \n",
    "\n",
    "netCDF allows for a fill value to be specified for each variable. Setting the fill value provides a few conveniences such as automated masking and reduced storage volume. Fill values are specified when you call `createVariable`. So, we need to close the netCDF dataset we were just working with, and open a new one with `MyVariable`'s fill_value argument set to `-9999`:"
   ]
  },
  {
   "cell_type": "code",
   "execution_count": 15,
   "metadata": {
    "ExecuteTime": {
     "end_time": "2019-09-09T15:41:18.888669Z",
     "start_time": "2019-09-09T15:41:18.868089Z"
    }
   },
   "outputs": [
    {
     "name": "stdout",
     "output_type": "stream",
     "text": [
      "[[0 1 -- 3]\n",
      " [4 5 -- 7]\n",
      " [8 9 -- 11]\n",
      " [12 13 -- 15]]\n"
     ]
    }
   ],
   "source": [
    "nc.close() # Close the dataset.\n",
    "\n",
    "# Open a new netCDF dataset and apply the routine above.\n",
    "nc = nc4.Dataset(\"MyFirstNetCDF.nc\", \"w\")\n",
    "nc.createDimension(\"y\", 4)\n",
    "nc.createDimension(\"x\", 4)\n",
    "\n",
    "# But this time, pass -9999 to createVariable's fill_value argument.\n",
    "var = nc.createVariable(\"MyVariable\", \"i2\", (\"y\", \"x\"), fill_value=-9999)\n",
    "var[:,:] = np.arange(16).reshape(4,4)\n",
    "var[:,2] = -9999\n",
    "\n",
    "print(var[:,:]) # Print the array again."
   ]
  },
  {
   "cell_type": "markdown",
   "metadata": {},
   "source": [
    "See the values for `x` position 2 are automatically masked! Setting attributes for our new variable is as easy as assigning to the variable like any other Python attribute. \n",
    "\n",
    "Check out what I mean in the next cell (**and don't forget to close the file**):"
   ]
  },
  {
   "cell_type": "code",
   "execution_count": 16,
   "metadata": {
    "ExecuteTime": {
     "end_time": "2019-09-09T15:41:18.995624Z",
     "start_time": "2019-09-09T15:41:18.892131Z"
    }
   },
   "outputs": [
    {
     "name": "stdout",
     "output_type": "stream",
     "text": [
      "netcdf MyFirstNetCDF {\n",
      "dimensions:\n",
      "\ty = 4 ;\n",
      "\tx = 4 ;\n",
      "variables:\n",
      "\tshort MyVariable(y, x) ;\n",
      "\t\tMyVariable:_FillValue = -9999s ;\n",
      "\t\tMyVariable:MyAttribute = \"MyVariable! I made this!\" ;\n",
      "data:\n",
      "\n",
      " MyVariable =\n",
      "  0, 1, _, 3,\n",
      "  4, 5, _, 7,\n",
      "  8, 9, _, 11,\n",
      "  12, 13, _, 15 ;\n",
      "}\n"
     ]
    }
   ],
   "source": [
    "var.MyAttribute = \"MyVariable! I made this!\" # Add an attribute.\n",
    "nc.close()                                   # Close the dataset.\n",
    "\n",
    "# Print the entire closed file with ncdump.\n",
    "!ncdump MyFirstNetCDF.nc"
   ]
  },
  {
   "cell_type": "markdown",
   "metadata": {},
   "source": [
    "Now you're ready to convert a time series of GeoTIFFs to netCDF!"
   ]
  },
  {
   "cell_type": "markdown",
   "metadata": {},
   "source": [
    "## Write a netCDF from a set of GeoTIFFs\n",
    "\n",
    "This example uses the same time series of GeoTIFFs from the ABoVE dataset that Michele introduced.\n",
    "\n",
    "### Requirements\n",
    "\n",
    "This workflow uses only open software packages maintained by OGC and Unidata + packages from the Python standard library:\n",
    "\n",
    "* [`pyproj`](https://pyproj4.github.io/pyproj/stable/),\n",
    "\n",
    "Pyproj is the Python interface to the PROJ library for cartographic projection and coordinate transformation. PROJ is maintained by the Open Geospatial Consortium (OGC) and is a go-to for geospatial data power users.\n",
    "\n",
    "* [`gdal`,`osr`](https://gdal.org/)\n",
    "\n",
    "GDAL and OSR are both part of the Python interface to the Geospatial Data Abstraction Library, also maintained by OSGeo.\n",
    "\n",
    "* [`netCDF4`](https://unidata.github.io/netcdf4-python/netCDF4/index.html)\n",
    "* [`numpy`](https://numpy.org/)\n",
    "\n",
    "In case you're new to Python, `numpy` is the fundamental package for scientific computing in Python. It provides the array  structures behind the Python packages interfaces to both GDAL and netCDF4. NumPy is highly optimized. You’ll see that these examples will run much faster than the equivalent workflow using the NCO tools.\n",
    "\n",
    "Importing GDAL's Python interface is a bit unusual. Install using:\n",
    "```shell\n",
    "pip install gdal          # OR\n",
    "conda install gdal        # OR\n",
    "sudo apt-get install python-gdal\n",
    "```\n",
    "BUT *import* using:\n",
    "```python\n",
    "import osgeo.gdal         # OR\n",
    "from osgeo import gdal\n",
    "```\n",
    "\n",
    "Import all requirements and glob for the GeoTIFFs that you saw in Michele's example. Print the first five:"
   ]
  },
  {
   "cell_type": "code",
   "execution_count": 17,
   "metadata": {
    "ExecuteTime": {
     "end_time": "2019-09-09T15:41:19.093706Z",
     "start_time": "2019-09-09T15:41:18.999220Z"
    },
    "scrolled": false
   },
   "outputs": [
    {
     "name": "stdout",
     "output_type": "stream",
     "text": [
      "GeoTIFF COUNT: 365 | FIRST FIVE:\n"
     ]
    },
    {
     "data": {
      "text/plain": [
       "['singleband\\\\SnowModel_DALL_2006_01_01.tif',\n",
       " 'singleband\\\\SnowModel_DALL_2006_01_02.tif',\n",
       " 'singleband\\\\SnowModel_DALL_2006_01_03.tif',\n",
       " 'singleband\\\\SnowModel_DALL_2006_01_04.tif',\n",
       " 'singleband\\\\SnowModel_DALL_2006_01_05.tif']"
      ]
     },
     "execution_count": 17,
     "metadata": {},
     "output_type": "execute_result"
    }
   ],
   "source": [
    "from pyproj import Proj, transform\n",
    "from osgeo import gdal, osr\n",
    "import netCDF4 as nc4\n",
    "import numpy as np\n",
    "\n",
    "import datetime as dt\n",
    "import glob\n",
    "import os\n",
    "\n",
    "# Get a list of files and print the first five.\n",
    "tifs = glob.glob(\"singleband/*2006*.tif\")\n",
    "print(\"GeoTIFF COUNT: {0} | FIRST FIVE:\".format(len(tifs))); tifs[:5]"
   ]
  },
  {
   "cell_type": "markdown",
   "metadata": {},
   "source": [
    "We learn a few basic steps before writing a netCDF.\n",
    "\n",
    "### Coordinates\n",
    "\n",
    "#### Time\n",
    "\n",
    "Notice that the filenames contain dates for the time series. Convert the first five filenames to a list of dates (with `datetime` from Python's standard library) in three steps:\n",
    "\n",
    "1. Split the filename by the string `__DALL__`. Yields a list:\n",
    "```python\n",
    ">>> x.split(\"_DALL_\")\n",
    "['data\\\\SnowModel', '2006_01_01.tif']\n",
    "```\n",
    "2. Remove the extension from the second item in the resulting list. Yields another list:\n",
    "```python\n",
    ">>> os.path.splitext(x[1])\n",
    "['2006_01_01', '.tif']\n",
    "```\n",
    "3. Split the first item, the date string, by underscores to get its component *yyyy, mm, dd* as a list:\n",
    "```python\n",
    ">>> x[0].split(\"_\")\n",
    "['2006', '01', '01']\n",
    "```\n",
    "\n",
    "**Try it out:**"
   ]
  },
  {
   "cell_type": "code",
   "execution_count": 18,
   "metadata": {
    "ExecuteTime": {
     "end_time": "2019-09-09T15:41:19.109222Z",
     "start_time": "2019-09-09T15:41:19.097254Z"
    }
   },
   "outputs": [
    {
     "name": "stdout",
     "output_type": "stream",
     "text": [
      "2006-01-01\n",
      "2006-01-02\n",
      "2006-01-03\n",
      "2006-01-04\n",
      "2006-01-05\n",
      "\n",
      "Date objects are instances of: <class 'datetime.date'>\n"
     ]
    }
   ],
   "source": [
    "# Loop over the tifs.\n",
    "for t in tifs[:5]:\n",
    "    \n",
    "    # Split by \"_DALL_\" string, remove the extension, split by underscore.\n",
    "    yyyy, mm, dd = os.path.splitext(t.split(\"_DALL_\")[1])[0].split(\"_\")\n",
    "    \n",
    "    # Make a datetime date. Don't forget to convert strings to integers.\n",
    "    date = dt.date(int(yyyy), int(mm), int(dd))\n",
    "    \n",
    "    # Print the date.\n",
    "    print(date)\n",
    "    \n",
    "# Check the last date's type.\n",
    "print(\"\\nDate objects are instances of: %s\" % type(date))"
   ]
  },
  {
   "cell_type": "markdown",
   "metadata": {},
   "source": [
    "CF also specifies that we need to provide time values relative to some origin time, typically since epoch (1970-01-01 00:00:00), but we will start from 2006 for consistency with Michele's example. \n",
    "\n",
    "The routine below computes the time since origin using the datetime object for the last date that was printed above (2006-01-05). It also shifts the value by one half day so that it complies with the CF mandate that time values represent the center of the observation period. Other than subtracting the datetimes, these steps are just basic arithmetic."
   ]
  },
  {
   "cell_type": "code",
   "execution_count": 19,
   "metadata": {
    "ExecuteTime": {
     "end_time": "2019-09-09T15:41:19.120746Z",
     "start_time": "2019-09-09T15:41:19.113223Z"
    }
   },
   "outputs": [
    {
     "name": "stdout",
     "output_type": "stream",
     "text": [
      "time:\t\t4.5\n",
      "time_bnds:\t[4, 5]\n"
     ]
    }
   ],
   "source": [
    "origin = dt.date(2006, 1, 1)                  # Create origin datetime.\n",
    "since_origin = (date - origin).days           # Subtract origin from date 5.\n",
    "time_v = since_origin + 0.5                   # Get fractional days.\n",
    "time_b = [since_origin, since_origin + 1]     # Get time_bnds.\n",
    "\n",
    "print(\"time:\\t\\t%s\\ntime_bnds:\\t%s\" % (time_v, time_b))"
   ]
  },
  {
   "cell_type": "markdown",
   "metadata": {},
   "source": [
    "#### Spatial characteristics\n",
    "\n",
    "Now we collect some important spatial characteristics about the rasters. We will open the first raster in the time series and collect the following information:\n",
    "* number of columns\n",
    "* number of rows\n",
    "* position of the raster origin in native coordinate system (via a tuple describing raster's geotransform)\n",
    "\n",
    "**Try it out:**"
   ]
  },
  {
   "cell_type": "code",
   "execution_count": 20,
   "metadata": {
    "ExecuteTime": {
     "end_time": "2019-09-09T15:41:19.144767Z",
     "start_time": "2019-09-09T15:41:19.124127Z"
    }
   },
   "outputs": [
    {
     "name": "stdout",
     "output_type": "stream",
     "text": [
      "Cols:\t\t160\n",
      "Rows:\t\t240\n",
      "Transform:\t(-28000.0, 500.0, 0.0, 1230000.0, 0.0, -500.0)\n"
     ]
    }
   ],
   "source": [
    "ras  = gdal.Open(tifs[0])           # Open first geotiff.\n",
    "\n",
    "cols = ras.RasterXSize              # Get the column count.\n",
    "rows = ras.RasterYSize              # Get the row count.\n",
    "gt   = ras.GetGeoTransform()        # Get the geotransform.\n",
    "\n",
    "print(\"Cols:\\t\\t{0}\\nRows:\\t\\t{1}\\nTransform:\\t{2}\".format(cols, rows, gt))"
   ]
  },
  {
   "cell_type": "markdown",
   "metadata": {},
   "source": [
    "**What is the GeoTransform?**\n",
    "\n",
    "The geotransform (a six item tuple in Python) is GDAL's way of describing the positioning of the raster onto the plane of the its native coordinate system. \n",
    "\n",
    "The coordinates for each pixel are calculated like:\n",
    "```\n",
    "GT = (  -28000.0,    <-   0 x minimum (top left; GeoTIFF origin)\n",
    "           500.0,    <-   1 x resolution\n",
    "             0.0,    <-   2 x rotation\n",
    "       1230000.0,    <-   3 y maximum (top left; GeoTIFF origin)\n",
    "             0.0,    <-   4 y rotation\n",
    "          -500.0  )  <-   5 y resolution\n",
    "```\n",
    "\n",
    "We need to use it to generate one-dimensional arrays of x and y coordinates to write to the netCDF. This is fairly simple with list comprehension:\n",
    "```python\n",
    ">>> [i for i in range(10)]\n",
    "[0, 1, 2, 3, 4, 5, 6, 7, 8, 9]\n",
    "```\n",
    "We use list comprehension to generate the sequences of coordinates based on their positions relative to the raster origin. Get each set of coordinates as a [`numpy.array`](#) and display the first coordinate pair:"
   ]
  },
  {
   "cell_type": "code",
   "execution_count": 21,
   "metadata": {
    "ExecuteTime": {
     "end_time": "2019-09-09T15:41:19.161778Z",
     "start_time": "2019-09-09T15:41:19.148074Z"
    }
   },
   "outputs": [
    {
     "name": "stdout",
     "output_type": "stream",
     "text": [
      "FIRST PIXEL (TL)  : -27750.0, 1229750.0\n",
      "LAST PIXEL  (BR)  : 51750.0, 1110250.0\n",
      "\n",
      "FIRST FIVE  (x, y):\n"
     ]
    },
    {
     "data": {
      "text/plain": [
       "(array([-27750., -27250., -26750., -26250., -25750.]),\n",
       " array([1229750., 1229250., 1228750., 1228250., 1227750.]))"
      ]
     },
     "execution_count": 21,
     "metadata": {},
     "output_type": "execute_result"
    }
   ],
   "source": [
    "# Get the geotransform as its component parts.\n",
    "xmin, xres, xrot, ymax, yrot, yres = gt\n",
    "\n",
    "# Get arrays of x and y coordinates.\n",
    "xarr = np.array([xmin + xres*0.5 + i*xres for i in range(0,cols)])\n",
    "yarr = np.array([ymax + yres*0.5 + i*yres for i in range(0,rows)])\n",
    "\n",
    "\n",
    "### THIS IS ALL PRINTING. YOU DONT NEED THIS. ------> \n",
    "# Print the first and last coordinate pairs.\n",
    "print(\"FIRST PIXEL (TL)  : %s, %s\" % (xarr[0], yarr[0]))\n",
    "print(\"LAST PIXEL  (BR)  : %s, %s\" % (xarr[-1], yarr[-1]))\n",
    "print(\"\\nFIRST FIVE  (x, y):\"); xarr[:5], yarr[:5]"
   ]
  },
  {
   "cell_type": "markdown",
   "metadata": {},
   "source": [
    "**We also need to calculate *two-dimensional* arrays of latitude and longitude coordinates that represented the geographic positions of the permuted x and y arrays.**\n",
    "\n",
    "We use the `transform` method of `Proj` from the `pyproj` module. \n",
    "```python\n",
    "DEV NOTE: This requires more explanation.\n",
    "```\n",
    "\n",
    "Test for the first pixel's x,y pair and then calculate all of them in a loop:"
   ]
  },
  {
   "cell_type": "code",
   "execution_count": 22,
   "metadata": {
    "ExecuteTime": {
     "end_time": "2019-09-09T15:41:19.215237Z",
     "start_time": "2019-09-09T15:41:19.165513Z"
    }
   },
   "outputs": [
    {
     "name": "stdout",
     "output_type": "stream",
     "text": [
      "FIRST PIXEL (TL)  : -154.5155916837612, 61.049237618268045\n",
      "LAST PIXEL  (BR)  : -153.06963977550794, 59.97850631454614\n"
     ]
    }
   ],
   "source": [
    "srs = osr.SpatialReference()                   # Create an osr.SRS object.\n",
    "srs.ImportFromWkt(ras.GetProjection())         # Import SRS from open GeoTIFF.\n",
    "proj4 = srs.ExportToProj4()                    # Get the proj4 of the SRS. \n",
    "\n",
    "inproj = Proj(proj4)                           # Create Proj for input SRS.\n",
    "outproj = Proj(init=\"epsg:4326\")               # Create Proj for output SRS.\n",
    "\n",
    "# ----------------------------------------------------------------------------\n",
    "#   Permute the one dimensional x and y arrays to create two two dimensional \n",
    "#   arrays that represent all possible combinations of the two. Then, flatten\n",
    "#   the two arrays to one dimension and apply the transform over the paired\n",
    "#   arrays.\n",
    "# ----------------------------------------------------------------------------\n",
    "\n",
    "xarr2d, yarr2d = np.meshgrid(xarr, yarr)       # Permute arrays.  \n",
    "\n",
    "lonarr, latarr = transform(\n",
    "    inproj,                                    # Input raster SRS.\n",
    "    outproj,                                   # Output geographic SRS.\n",
    "    xarr2d.flatten(),                          # Flattened 2d array of x.\n",
    "    yarr2d.flatten())                          # Flattened 2d array of y.\n",
    "\n",
    "lonarr2d = lonarr.reshape(xarr2d.shape)        # Reshape lons back to 2d.\n",
    "latarr2d = latarr.reshape(yarr2d.shape)        # Reshape lats back to 2d.\n",
    "\n",
    "# Check the result.\n",
    "print(\"FIRST PIXEL (TL)  : %s, %s\" % (lonarr2d[0,0], latarr2d[0,0]))\n",
    "print(\"LAST PIXEL  (BR)  : %s, %s\" % (lonarr2d[-1,-1], latarr2d[-1,-1]))"
   ]
  },
  {
   "cell_type": "markdown",
   "metadata": {},
   "source": [
    "*Don't forget to \"dereference\" the open GeoTIFF dataset:*"
   ]
  },
  {
   "cell_type": "code",
   "execution_count": 23,
   "metadata": {
    "ExecuteTime": {
     "end_time": "2019-09-09T15:41:19.234992Z",
     "start_time": "2019-09-09T15:41:19.224582Z"
    }
   },
   "outputs": [],
   "source": [
    "ras = None"
   ]
  },
  {
   "cell_type": "markdown",
   "metadata": {},
   "source": [
    "Now use all the same methods that were introduced in section 1 (**The basics**) to open a netCDF and write the essential metadata elements, then the data.\n",
    "\n",
    "### Open a netCDF for writing\n",
    "\n",
    "Open a netCDF with the `Dataset` constructor:"
   ]
  },
  {
   "cell_type": "code",
   "execution_count": 24,
   "metadata": {
    "ExecuteTime": {
     "end_time": "2019-09-09T15:41:19.252766Z",
     "start_time": "2019-09-09T15:41:19.239279Z"
    },
    "scrolled": true
   },
   "outputs": [
    {
     "data": {
      "text/plain": [
       "<class 'netCDF4._netCDF4.Dataset'>\n",
       "root group (NETCDF4 data model, file format HDF5):\n",
       "    dimensions(sizes): \n",
       "    variables(dimensions): \n",
       "    groups: "
      ]
     },
     "execution_count": 24,
     "metadata": {},
     "output_type": "execute_result"
    }
   ],
   "source": [
    "nc = nc4.Dataset(\"MyFirstNetCDF.nc\", \"w\")\n",
    "nc"
   ]
  },
  {
   "cell_type": "markdown",
   "metadata": {
    "ExecuteTime": {
     "end_time": "2019-09-03T16:41:30.751852Z",
     "start_time": "2019-09-03T16:41:30.748892Z"
    }
   },
   "source": [
    "### Add dimensions\n",
    "\n",
    "Dimensions are written to the netCDF4 using the createDimension method of netCDF4.Dataset.\n",
    "* `time` is the 'UNLIMITED' dimension (no size).\n",
    "* `x` size comes from the input GeoTIFFs' column count.\n",
    "* `y` from the row count.\n",
    "* `nv` makes space for a special CF variable called `time_bnds`. "
   ]
  },
  {
   "cell_type": "code",
   "execution_count": 25,
   "metadata": {
    "ExecuteTime": {
     "end_time": "2019-09-09T15:41:19.268617Z",
     "start_time": "2019-09-09T15:41:19.256980Z"
    }
   },
   "outputs": [
    {
     "data": {
      "text/plain": [
       "OrderedDict([('time',\n",
       "              <class 'netCDF4._netCDF4.Dimension'> (unlimited): name = 'time', size = 0),\n",
       "             ('nv',\n",
       "              <class 'netCDF4._netCDF4.Dimension'>: name = 'nv', size = 2),\n",
       "             ('y',\n",
       "              <class 'netCDF4._netCDF4.Dimension'>: name = 'y', size = 240),\n",
       "             ('x',\n",
       "              <class 'netCDF4._netCDF4.Dimension'>: name = 'x', size = 160)])"
      ]
     },
     "execution_count": 25,
     "metadata": {},
     "output_type": "execute_result"
    }
   ],
   "source": [
    "nc.createDimension(\"time\")\n",
    "nc.createDimension(\"nv\", 2)\n",
    "nc.createDimension(\"y\", rows)\n",
    "nc.createDimension(\"x\", cols)\n",
    "\n",
    "nc.dimensions"
   ]
  },
  {
   "cell_type": "markdown",
   "metadata": {
    "ExecuteTime": {
     "end_time": "2019-09-03T16:45:02.865918Z",
     "start_time": "2019-09-03T16:45:02.861912Z"
    }
   },
   "source": [
    "### Add coordinate variables\n",
    "\n",
    "Variables are written to the netCDF4 using the `createVariable` method of `netCDF4.Dataset`.\n",
    "\n",
    "When I say 'coordinate variables' I mean the variables that play some special role in describing the positions of the data arranged along dimensions (axes) that we created above.\n",
    "\n",
    "#### time"
   ]
  },
  {
   "cell_type": "code",
   "execution_count": 26,
   "metadata": {
    "ExecuteTime": {
     "end_time": "2019-09-09T15:41:19.291212Z",
     "start_time": "2019-09-09T15:41:19.272505Z"
    }
   },
   "outputs": [
    {
     "data": {
      "text/plain": [
       "<class 'netCDF4._netCDF4.Variable'>\n",
       "float32 time(time)\n",
       "    standard_name: time\n",
       "    long_name: time\n",
       "    calendar: standard\n",
       "    units: days since 2006-01-01 00:00:00 UTC\n",
       "    bounds: time_bnds\n",
       "unlimited dimensions: time\n",
       "current shape = (0,)\n",
       "filling on, default _FillValue of 9.969209968386869e+36 used"
      ]
     },
     "execution_count": 26,
     "metadata": {},
     "output_type": "execute_result"
    }
   ],
   "source": [
    "time = nc.createVariable(\"time\", \"f4\", (\"time\",))\n",
    "time.standard_name = \"time\"\n",
    "time.long_name = \"time\"\n",
    "time.calendar = \"standard\"\n",
    "time.units = \"days since 2006-01-01 00:00:00 UTC\"\n",
    "time.bounds = \"time_bnds\"\n",
    "\n",
    "nc.variables[\"time\"]"
   ]
  },
  {
   "cell_type": "markdown",
   "metadata": {},
   "source": [
    "#### time_bnds\n",
    "\n",
    "`time` describes the center of the time interval. We need to define another CF-prescribed variable 'time_bnds' that describes the limits of of the observation period."
   ]
  },
  {
   "cell_type": "code",
   "execution_count": 27,
   "metadata": {
    "ExecuteTime": {
     "end_time": "2019-09-09T15:41:19.307564Z",
     "start_time": "2019-09-09T15:41:19.295621Z"
    }
   },
   "outputs": [
    {
     "data": {
      "text/plain": [
       "<class 'netCDF4._netCDF4.Variable'>\n",
       "float32 time_bnds(time, nv)\n",
       "    units: days since 2006-01-01 00:00:00 UTC\n",
       "unlimited dimensions: time\n",
       "current shape = (0, 2)\n",
       "filling on, default _FillValue of 9.969209968386869e+36 used"
      ]
     },
     "execution_count": 27,
     "metadata": {},
     "output_type": "execute_result"
    }
   ],
   "source": [
    "time_bnds = nc.createVariable(\"time_bnds\", \"f4\", (\"time\",\"nv\",))\n",
    "time_bnds.units = \"days since 2006-01-01 00:00:00 UTC\" \n",
    "\n",
    "nc.variables[\"time_bnds\"]"
   ]
  },
  {
   "cell_type": "markdown",
   "metadata": {},
   "source": [
    "Now add the data for the `time` and `time_bnds` variables in a loop using the routine from section 3.2.1:"
   ]
  },
  {
   "cell_type": "code",
   "execution_count": 28,
   "metadata": {
    "ExecuteTime": {
     "end_time": "2019-09-09T15:41:19.492608Z",
     "start_time": "2019-09-09T15:41:19.310564Z"
    }
   },
   "outputs": [],
   "source": [
    "origin = dt.date(2006, 1, 1)\n",
    "\n",
    "for i, t in enumerate(tifs): \n",
    "    \n",
    "    # Get the day from filename.\n",
    "    yyyy, mm, dd = os.path.splitext(t.split(\"_DALL_\")[1])[0].split(\"_\")\n",
    "    date = dt.date(int(yyyy), int(mm), int(dd))\n",
    "\n",
    "    # Get the number of days since the desired origin.\n",
    "    since_origin = (date - origin).days + 1\n",
    "    time[i] = since_origin + 0.5\n",
    "    time_bnds[i] = [since_origin, since_origin + 1]"
   ]
  },
  {
   "cell_type": "markdown",
   "metadata": {},
   "source": [
    "#### x and y\n",
    "\n",
    "`x` and `y` are both one dimensional. We already made the array for these variables in section 3.2.2. Add them to the variables:"
   ]
  },
  {
   "cell_type": "code",
   "execution_count": 29,
   "metadata": {
    "ExecuteTime": {
     "end_time": "2019-09-09T15:41:19.517031Z",
     "start_time": "2019-09-09T15:41:19.495608Z"
    }
   },
   "outputs": [
    {
     "data": {
      "text/plain": [
       "<class 'netCDF4._netCDF4.Variable'>\n",
       "float32 x(x)\n",
       "    units: m\n",
       "    long_name: x coordinate of projection\n",
       "    standard_name: projection_x_coordinate\n",
       "unlimited dimensions: \n",
       "current shape = (160,)\n",
       "filling on, default _FillValue of 9.969209968386869e+36 used"
      ]
     },
     "execution_count": 29,
     "metadata": {},
     "output_type": "execute_result"
    }
   ],
   "source": [
    "# Create x variable.\n",
    "x = nc.createVariable(\"x\", \"f4\", (\"x\",))\n",
    "x.units = \"m\"\n",
    "x.long_name = \"x coordinate of projection\"\n",
    "x.standard_name = \"projection_x_coordinate\"\n",
    "x[:] = xarr                                  # Add the x array from 3.2.2.\n",
    "\n",
    "# Create y variable.\n",
    "y = nc.createVariable(\"y\", \"f4\", (\"y\",))\n",
    "y.units = \"m\"\n",
    "y.long_name = \"y coordinate of projection\"\n",
    "y.standard_name = \"projection_y_coordinate\"\n",
    "y[:] = yarr                                  # Add the y array from 3.2.2.\n",
    "\n",
    "\n",
    "nc.variables[\"x\"]                            # Print the x variable."
   ]
  },
  {
   "cell_type": "markdown",
   "metadata": {},
   "source": [
    "#### lon and lat\n",
    "\n",
    "`lon` and `lat` are both two dimensional. We already made the array for these variables in section 3.2.2. Add them to the variables:"
   ]
  },
  {
   "cell_type": "code",
   "execution_count": 30,
   "metadata": {
    "ExecuteTime": {
     "end_time": "2019-09-09T15:41:19.543816Z",
     "start_time": "2019-09-09T15:41:19.521898Z"
    }
   },
   "outputs": [
    {
     "data": {
      "text/plain": [
       "<class 'netCDF4._netCDF4.Variable'>\n",
       "float32 lon(y, x)\n",
       "    units: degrees_east\n",
       "    long_name: longitude coordinate\n",
       "    standard_name: longitude\n",
       "unlimited dimensions: \n",
       "current shape = (240, 160)\n",
       "filling on, default _FillValue of 9.969209968386869e+36 used"
      ]
     },
     "execution_count": 30,
     "metadata": {},
     "output_type": "execute_result"
    }
   ],
   "source": [
    "# Create longitude variable.\n",
    "lon = nc.createVariable(\"lon\", \"f4\", (\"y\", \"x\",))\n",
    "lon.units = \"degrees_east\"\n",
    "lon.long_name = \"longitude coordinate\"\n",
    "lon.standard_name = \"longitude\"\n",
    "lon[:,:] = lonarr2d                          # Add lon array from 3.2.2.\n",
    "\n",
    "# Create latitude variable.\n",
    "lat = nc.createVariable(\"lat\", \"f4\", (\"y\", \"x\",))\n",
    "lat.units = \"degrees_north\"\n",
    "lat.long_name = \"latitude coordinate\"\n",
    "lat.standard_name = \"latitude\"\n",
    "lat[:,:] = latarr2d                          # Add lat array from 3.2.2.\n",
    "\n",
    "\n",
    "nc.variables[\"lon\"]                          # Print the lon variable."
   ]
  },
  {
   "cell_type": "markdown",
   "metadata": {},
   "source": [
    "### Add crs variable\n",
    "\n",
    "The crs variable is another special CF variable that describes the `grid_mapping` according to the CF convention for projected data. We get this information from via one of a gdal.Dataset's proj methods. The crs variable does not store any data - only attributes.\n",
    "\n",
    "Add the `crs` variable to the dataset and pull all of the projection parameters from the SRS object that was created in section 3.3.2. Add the parameters to the variable as attributes:"
   ]
  },
  {
   "cell_type": "code",
   "execution_count": 31,
   "metadata": {
    "ExecuteTime": {
     "end_time": "2019-09-09T15:41:19.569363Z",
     "start_time": "2019-09-09T15:41:19.550224Z"
    }
   },
   "outputs": [
    {
     "data": {
      "text/plain": [
       "<class 'netCDF4._netCDF4.Variable'>\n",
       "int16 albers_conical_equal_area()\n",
       "    grid_mapping_name: albers_conical_equal_area\n",
       "    longitude_of_central_meridian: -154.0\n",
       "    latitude_of_projection_origin: 50.0\n",
       "    standard_parallel: [55. 65.]\n",
       "    false_easting: 0.0\n",
       "    false_northing: 0.0\n",
       "    semi_major_axis: 6378137.0\n",
       "    inverse_flattening: 298.2572221010042\n",
       "    crs_wkt: PROJCS[\"unnamed\",GEOGCS[\"NAD83\",DATUM[\"North_American_Datum_1983\",SPHEROID[\"GRS 1980\",6378137,298.2572221010042,AUTHORITY[\"EPSG\",\"7019\"]],TOWGS84[0,0,0,0,0,0,0],AUTHORITY[\"EPSG\",\"6269\"]],PRIMEM[\"Greenwich\",0],UNIT[\"degree\",0.0174532925199433],AUTHORITY[\"EPSG\",\"4269\"]],PROJECTION[\"Albers_Conic_Equal_Area\"],PARAMETER[\"standard_parallel_1\",55],PARAMETER[\"standard_parallel_2\",65],PARAMETER[\"latitude_of_center\",50],PARAMETER[\"longitude_of_center\",-154],PARAMETER[\"false_easting\",0],PARAMETER[\"false_northing\",0],UNIT[\"metre\",1,AUTHORITY[\"EPSG\",\"9001\"]]]\n",
       "unlimited dimensions: \n",
       "current shape = ()\n",
       "filling on, default _FillValue of -32767 used"
      ]
     },
     "execution_count": 31,
     "metadata": {},
     "output_type": "execute_result"
    }
   ],
   "source": [
    "# Create the CRS variable. \n",
    "grid_mapping_name = \"albers_conical_equal_area\"  # This is a CF standard.\n",
    "crs = nc.createVariable(grid_mapping_name, \"i2\")\n",
    "\n",
    "# Populate the attributes using the osr.SRS. Some required by GMN.\n",
    "crs.grid_mapping_name = grid_mapping_name\n",
    "crs.longitude_of_central_meridian = srs.GetProjParm(\"longitude_of_center\")\n",
    "crs.latitude_of_projection_origin = srs.GetProjParm(\"latitude_of_origin\")\n",
    "crs.standard_parallel = [srs.GetProjParm(\"standard_parallel_1\"),\n",
    "                         srs.GetProjParm(\"standard_parallel_2\") ]\n",
    "crs.false_easting = srs.GetProjParm(\"false_easting\")\n",
    "crs.false_northing = srs.GetProjParm(\"false_northing\")\n",
    "crs.semi_major_axis = srs.GetSemiMajor()\n",
    "crs.inverse_flattening = srs.GetInvFlattening()\n",
    "crs.crs_wkt = srs.ExportToWkt()\n",
    "\n",
    "\n",
    "crs # Print the crs variable."
   ]
  },
  {
   "cell_type": "markdown",
   "metadata": {},
   "source": [
    "### Add data variable\n",
    "\n",
    "This example only merges one variable from the time series of GeoTIFFs, so we'll only write one data variable to the output netCDF. Data will be arranged over `time`, `y`, and `x` dimensions. Don't forget to check the CF standard names table for appropriate standard_name attribute.\n",
    "\n",
    "Add a variable called `SnowDepth` to the output file, and give it some attributes."
   ]
  },
  {
   "cell_type": "code",
   "execution_count": 32,
   "metadata": {
    "ExecuteTime": {
     "end_time": "2019-09-09T15:41:19.589712Z",
     "start_time": "2019-09-09T15:41:19.572974Z"
    }
   },
   "outputs": [
    {
     "data": {
      "text/plain": [
       "<class 'netCDF4._netCDF4.Variable'>\n",
       "float32 SnowDepth_500m(time, y, x)\n",
       "    _FillValue: -9999.0\n",
       "    grid_mapping: albers_conical_equal_area\n",
       "    long_name: SnowModel snow depth\n",
       "    units: cm\n",
       "unlimited dimensions: time\n",
       "current shape = (365, 240, 160)\n",
       "filling on"
      ]
     },
     "execution_count": 32,
     "metadata": {},
     "output_type": "execute_result"
    }
   ],
   "source": [
    "data = nc.createVariable(\n",
    "    \"SnowDepth_500m\",            # Specify variable name.\n",
    "    \"f4\",                        # Specify data type.\n",
    "    (\"time\", \"y\", \"x\"),          # Specify dimensions.\n",
    "    zlib=True,                   # Specify compression with zlib.\n",
    "    complevel=4,                 # Specify compression level.\n",
    "    fill_value=-9999.)           # Specify the fill value.\n",
    "\n",
    "# Set a few attributes.\n",
    "\n",
    "data.grid_mapping = grid_mapping_name            # CF required.\n",
    "#data.standard_name = None                       # CF strongly encouraged.\n",
    "data.long_name = \"SnowModel snow depth\"          # CF encouraged.\n",
    "data.units = \"cm\"                                # CF required.\n",
    "\n",
    "nc.variables[\"SnowDepth_500m\"]   # Print the data variable."
   ]
  },
  {
   "cell_type": "markdown",
   "metadata": {},
   "source": [
    "Now, add the data from each GeoTIFF in a loop."
   ]
  },
  {
   "cell_type": "code",
   "execution_count": 33,
   "metadata": {
    "ExecuteTime": {
     "end_time": "2019-09-09T15:41:23.265316Z",
     "start_time": "2019-09-09T15:41:19.592250Z"
    }
   },
   "outputs": [],
   "source": [
    "for i, t in enumerate(tifs):     # Loop over GeoTIFFs.\n",
    "    ras  = gdal.Open(t)          # Open it.\n",
    "    band = ras.GetRasterBand(1)  # Get the first band.\n",
    "    arr  = band.ReadAsArray()    # Get data as a 2d numpy.ndarray.\n",
    "    ras  = None                  # Dereference the open GeoTIFF.\n",
    "\n",
    "    arr[np.isnan(arr)] = -9999.  # Set missing values to -9999.\n",
    "    data[i,:,:] = arr            # Add the array to the current timestep.\n",
    "    nc.sync()                    # Write changes to disk."
   ]
  },
  {
   "cell_type": "markdown",
   "metadata": {},
   "source": [
    "### Add global attributes\n",
    "Finally, write some global attributes to the file.\n",
    "\n",
    "Think of the global attributes as file-level attributes that describe the dataset in a way that is similar to a header in a table's header. Some attributes are CF standard attributes. Any information that will be helpful to your record keeping, or potentially useful to an end user, can go into a global attribute."
   ]
  },
  {
   "cell_type": "code",
   "execution_count": 34,
   "metadata": {
    "ExecuteTime": {
     "end_time": "2019-09-09T15:41:23.285781Z",
     "start_time": "2019-09-09T15:41:23.270021Z"
    }
   },
   "outputs": [
    {
     "data": {
      "text/plain": [
       "<class 'netCDF4._netCDF4.Dataset'>\n",
       "root group (NETCDF4 data model, file format HDF5):\n",
       "    Conventions: CF-1.6\n",
       "    archive: ORNL DAAC\n",
       "    dimensions(sizes): time(365), nv(2), y(240), x(160)\n",
       "    variables(dimensions): float32 \u001b[4mtime\u001b[0m(time), float32 \u001b[4mtime_bnds\u001b[0m(time,nv), float32 \u001b[4mx\u001b[0m(x), float32 \u001b[4my\u001b[0m(y), float32 \u001b[4mlon\u001b[0m(y,x), float32 \u001b[4mlat\u001b[0m(y,x), int16 \u001b[4malbers_conical_equal_area\u001b[0m(), float32 \u001b[4mSnowDepth_500m\u001b[0m(time,y,x)\n",
       "    groups: "
      ]
     },
     "execution_count": 34,
     "metadata": {},
     "output_type": "execute_result"
    }
   ],
   "source": [
    "nc.Conventions = \"CF-1.6\"\n",
    "nc.archive     = \"ORNL DAAC\"\n",
    "nc"
   ]
  },
  {
   "cell_type": "markdown",
   "metadata": {},
   "source": [
    "### Close the file and check\n",
    "\n",
    "Close the file, then admire your work by printing the header with `ncdump`:"
   ]
  },
  {
   "cell_type": "code",
   "execution_count": 35,
   "metadata": {
    "ExecuteTime": {
     "end_time": "2019-09-09T15:41:23.448263Z",
     "start_time": "2019-09-09T15:41:23.291861Z"
    }
   },
   "outputs": [
    {
     "name": "stdout",
     "output_type": "stream",
     "text": [
      "netcdf MyFirstNetCDF {\n",
      "dimensions:\n",
      "\ttime = UNLIMITED ; // (365 currently)\n",
      "\tnv = 2 ;\n",
      "\ty = 240 ;\n",
      "\tx = 160 ;\n",
      "variables:\n",
      "\tfloat time(time) ;\n",
      "\t\ttime:standard_name = \"time\" ;\n",
      "\t\ttime:long_name = \"time\" ;\n",
      "\t\ttime:calendar = \"standard\" ;\n",
      "\t\ttime:units = \"days since 2006-01-01 00:00:00 UTC\" ;\n",
      "\t\ttime:bounds = \"time_bnds\" ;\n",
      "\tfloat time_bnds(time, nv) ;\n",
      "\t\ttime_bnds:units = \"days since 2006-01-01 00:00:00 UTC\" ;\n",
      "\tfloat x(x) ;\n",
      "\t\tx:units = \"m\" ;\n",
      "\t\tx:long_name = \"x coordinate of projection\" ;\n",
      "\t\tx:standard_name = \"projection_x_coordinate\" ;\n",
      "\tfloat y(y) ;\n",
      "\t\ty:units = \"m\" ;\n",
      "\t\ty:long_name = \"y coordinate of projection\" ;\n",
      "\t\ty:standard_name = \"projection_y_coordinate\" ;\n",
      "\tfloat lon(y, x) ;\n",
      "\t\tlon:units = \"degrees_east\" ;\n",
      "\t\tlon:long_name = \"longitude coordinate\" ;\n",
      "\t\tlon:standard_name = \"longitude\" ;\n",
      "\tfloat lat(y, x) ;\n",
      "\t\tlat:units = \"degrees_north\" ;\n",
      "\t\tlat:long_name = \"latitude coordinate\" ;\n",
      "\t\tlat:standard_name = \"latitude\" ;\n",
      "\tshort albers_conical_equal_area ;\n",
      "\t\talbers_conical_equal_area:grid_mapping_name = \"albers_conical_equal_area\" ;\n",
      "\t\talbers_conical_equal_area:longitude_of_central_meridian = -154. ;\n",
      "\t\talbers_conical_equal_area:latitude_of_projection_origin = 50. ;\n",
      "\t\talbers_conical_equal_area:standard_parallel = 55., 65. ;\n",
      "\t\talbers_conical_equal_area:false_easting = 0. ;\n",
      "\t\talbers_conical_equal_area:false_northing = 0. ;\n",
      "\t\talbers_conical_equal_area:semi_major_axis = 6378137. ;\n",
      "\t\talbers_conical_equal_area:inverse_flattening = 298.257222101004 ;\n",
      "\t\talbers_conical_equal_area:crs_wkt = \"PROJCS[\\\"unnamed\\\",GEOGCS[\\\"NAD83\\\",DATUM[\\\"North_American_Datum_1983\\\",SPHEROID[\\\"GRS 1980\\\",6378137,298.2572221010042,AUTHORITY[\\\"EPSG\\\",\\\"7019\\\"]],TOWGS84[0,0,0,0,0,0,0],AUTHORITY[\\\"EPSG\\\",\\\"6269\\\"]],PRIMEM[\\\"Greenwich\\\",0],UNIT[\\\"degree\\\",0.0174532925199433],AUTHORITY[\\\"EPSG\\\",\\\"4269\\\"]],PROJECTION[\\\"Albers_Conic_Equal_Area\\\"],PARAMETER[\\\"standard_parallel_1\\\",55],PARAMETER[\\\"standard_parallel_2\\\",65],PARAMETER[\\\"latitude_of_center\\\",50],PARAMETER[\\\"longitude_of_center\\\",-154],PARAMETER[\\\"false_easting\\\",0],PARAMETER[\\\"false_northing\\\",0],UNIT[\\\"metre\\\",1,AUTHORITY[\\\"EPSG\\\",\\\"9001\\\"]]]\" ;\n",
      "\tfloat SnowDepth_500m(time, y, x) ;\n",
      "\t\tSnowDepth_500m:_FillValue = -9999.f ;\n",
      "\t\tSnowDepth_500m:grid_mapping = \"albers_conical_equal_area\" ;\n",
      "\t\tSnowDepth_500m:long_name = \"SnowModel snow depth\" ;\n",
      "\t\tSnowDepth_500m:units = \"cm\" ;\n",
      "\n",
      "// global attributes:\n",
      "\t\t:Conventions = \"CF-1.6\" ;\n",
      "\t\t:archive = \"ORNL DAAC\" ;\n",
      "}\n"
     ]
    }
   ],
   "source": [
    "nc.close()\n",
    "\n",
    "!ncdump -h MyFirstNetCDF.nc"
   ]
  },
  {
   "cell_type": "markdown",
   "metadata": {},
   "source": [
    "## Write the netCDF again in a script!\n",
    "\n",
    "The cell below does everything we learned above:"
   ]
  },
  {
   "cell_type": "code",
   "execution_count": 36,
   "metadata": {
    "ExecuteTime": {
     "end_time": "2019-09-09T15:41:27.974619Z",
     "start_time": "2019-09-09T15:41:23.451472Z"
    }
   },
   "outputs": [
    {
     "name": "stdout",
     "output_type": "stream",
     "text": [
      "netcdf MyFirstNetCDF {\n",
      "dimensions:\n",
      "\ttime = UNLIMITED ; // (365 currently)\n",
      "\tnv = 2 ;\n",
      "\ty = 240 ;\n",
      "\tx = 160 ;\n",
      "variables:\n",
      "\tfloat time(time) ;\n",
      "\t\ttime:standard_name = \"time\" ;\n",
      "\t\ttime:long_name = \"time\" ;\n",
      "\t\ttime:calendar = \"standard\" ;\n",
      "\t\ttime:units = \"days since 1970-01-01 00:00:00 UTC\" ;\n",
      "\t\ttime:bounds = \"time_bnds\" ;\n",
      "\tfloat time_bnds(time, nv) ;\n",
      "\t\ttime_bnds:units = \"days since 1970-01-01 00:00:00 UTC\" ;\n",
      "\tfloat x(x) ;\n",
      "\t\tx:units = \"m\" ;\n",
      "\t\tx:long_name = \"x coordinate of projection\" ;\n",
      "\t\tx:standard_name = \"projection_x_coordinate\" ;\n",
      "\tfloat y(y) ;\n",
      "\t\ty:units = \"m\" ;\n",
      "\t\ty:long_name = \"y coordinate of projection\" ;\n",
      "\t\ty:standard_name = \"projection_y_coordinate\" ;\n",
      "\tfloat lon(y, x) ;\n",
      "\t\tlon:units = \"degrees_east\" ;\n",
      "\t\tlon:long_name = \"longitude coordinate\" ;\n",
      "\t\tlon:standard_name = \"longitude\" ;\n",
      "\tfloat lat(y, x) ;\n",
      "\t\tlat:units = \"degrees_north\" ;\n",
      "\t\tlat:long_name = \"latitude coordinate\" ;\n",
      "\t\tlat:standard_name = \"latitude\" ;\n",
      "\tshort albers_conical_equal_area ;\n",
      "\t\talbers_conical_equal_area:grid_mapping_name = \"albers_conical_equal_area\" ;\n",
      "\t\talbers_conical_equal_area:longitude_of_central_meridian = -154. ;\n",
      "\t\talbers_conical_equal_area:latitude_of_projection_origin = 50. ;\n",
      "\t\talbers_conical_equal_area:standard_parallel = 55., 65. ;\n",
      "\t\talbers_conical_equal_area:false_easting = 0. ;\n",
      "\t\talbers_conical_equal_area:false_northing = 0. ;\n",
      "\t\talbers_conical_equal_area:semi_major_axis = 6378137. ;\n",
      "\t\talbers_conical_equal_area:inverse_flattening = 298.257222101004 ;\n",
      "\t\talbers_conical_equal_area:crs_wkt = \"PROJCS[\\\"unnamed\\\",GEOGCS[\\\"NAD83\\\",DATUM[\\\"North_American_Datum_1983\\\",SPHEROID[\\\"GRS 1980\\\",6378137,298.2572221010042,AUTHORITY[\\\"EPSG\\\",\\\"7019\\\"]],TOWGS84[0,0,0,0,0,0,0],AUTHORITY[\\\"EPSG\\\",\\\"6269\\\"]],PRIMEM[\\\"Greenwich\\\",0],UNIT[\\\"degree\\\",0.0174532925199433],AUTHORITY[\\\"EPSG\\\",\\\"4269\\\"]],PROJECTION[\\\"Albers_Conic_Equal_Area\\\"],PARAMETER[\\\"standard_parallel_1\\\",55],PARAMETER[\\\"standard_parallel_2\\\",65],PARAMETER[\\\"latitude_of_center\\\",50],PARAMETER[\\\"longitude_of_center\\\",-154],PARAMETER[\\\"false_easting\\\",0],PARAMETER[\\\"false_northing\\\",0],UNIT[\\\"metre\\\",1,AUTHORITY[\\\"EPSG\\\",\\\"9001\\\"]]]\" ;\n",
      "\tfloat SnowDepth_500m(time, y, x) ;\n",
      "\t\tSnowDepth_500m:_FillValue = -9999.f ;\n",
      "\t\tSnowDepth_500m:grid_mapping = \"albers_conical_equal_area\" ;\n",
      "\t\tSnowDepth_500m:standard_name = \"SOME_STANDARD_NAME\" ;\n",
      "\t\tSnowDepth_500m:long_name = \"SnowModel snow depth\" ;\n",
      "\t\tSnowDepth_500m:units = \"cm\" ;\n",
      "\n",
      "// global attributes:\n",
      "\t\t:Conventions = \"CF-1.6\" ;\n",
      "\t\t:archive = \"ORNL DAAC\" ;\n",
      "}\n"
     ]
    }
   ],
   "source": [
    "# Open a netCDF4.Dataset in write mode.\n",
    "with nc4.Dataset(\"MyFirstNetCDF.nc\", \"w\") as nc:\n",
    "\n",
    "    ##########################################################################\n",
    "    #                  Create time, x, y, and nv dimensions.                  \n",
    "    ##########################################################################\n",
    "    #\n",
    "    #   Dimensions are written to the netCDF4 using the createDimension method\n",
    "    #   of netCDF4.Dataset.\n",
    "    #\n",
    "    #  * 'time' is the 'UNLIMITED' dimension (no size).\n",
    "    #  * 'x' size comes from the input GeoTIFFs' column count.\n",
    "    #  * 'y' from the row count.\n",
    "    #  * 'nv' makes space for a special CF variable called 'time_bnds'. \n",
    "    #\n",
    "    # ------------------------------------------------------------------------\n",
    "    \n",
    "    nc.createDimension(\"time\")\n",
    "    nc.createDimension(\"nv\", 2)\n",
    "    nc.createDimension(\"y\", rows)\n",
    "    nc.createDimension(\"x\", cols)\n",
    "    \n",
    "    ##########################################################################\n",
    "    #                     Create 'coordinate' variables.                     \n",
    "    ##########################################################################\n",
    "    #\n",
    "    #   Variables are written to the netCDF4 using the createVariable method\n",
    "    #   of netCDF4.Dataset.\n",
    "    #\n",
    "    #   I'm not sure if 'coordinate' variable is the term used by CF, but \n",
    "    #   when I say coordinate variables I mean the variables that play some \n",
    "    #   special role in describing the positions of the data arranged along \n",
    "    #   dimensions (axes) that we created above.\n",
    "    #\n",
    "    # ------------------------------------------------------------------------\n",
    "    \n",
    "    # Create time variable.\n",
    "    \n",
    "    time = nc.createVariable(\"time\", \"f4\", (\"time\",))\n",
    "    time.standard_name = \"time\"\n",
    "    time.long_name = \"time\"\n",
    "    time.calendar = \"standard\"\n",
    "    time.units = \"days since 1970-01-01 00:00:00 UTC\"\n",
    "    time.bounds = \"time_bnds\"\n",
    "    \n",
    "    # ------------------------------------------------------------------------\n",
    "    #   time_bnds: 'time' describes the center of the time interval. We need \n",
    "    #   to define another CF-prescribed variable 'time_bnds' that describes \n",
    "    #   the limits of of the observation period.\n",
    "    # ------------------------------------------------------------------------\n",
    "    \n",
    "    # Create time_bnds variable.\n",
    "    \n",
    "    time_bnds = nc.createVariable(\"time_bnds\", \"f4\", (\"time\",\"nv\",))\n",
    "    time_bnds.units = \"days since 1970-01-01 00:00:00 UTC\"   \n",
    "    \n",
    "    # Use routine from section 1.1.1 to write the time and time_bnds values.\n",
    "    \n",
    "    origin = dt.date(1970, 1, 1)\n",
    "    \n",
    "    for i, t in enumerate(tifs): \n",
    "        \n",
    "        yyyy, mm, dd = os.path.splitext(t.split(\"_DALL_\")[1])[0].split(\"_\")\n",
    "        date = dt.date(int(yyyy), int(mm), int(dd))\n",
    "        \n",
    "        since_origin = (date - origin).days\n",
    "        time[i] = since_origin + 0.5\n",
    "        time_bnds[i] = [since_origin, since_origin + 1]\n",
    "  \n",
    "    # ------------------------------------------------------------------------\n",
    "    #   'x' and 'y' are one dimensional. We already made these. Add variables.\n",
    "    # ------------------------------------------------------------------------\n",
    "    \n",
    "    # Create x variable.\n",
    "    \n",
    "    x = nc.createVariable(\"x\", \"f4\", (\"x\",))\n",
    "    x.units = \"m\"\n",
    "    x.long_name = \"x coordinate of projection\"\n",
    "    x.standard_name = \"projection_x_coordinate\"\n",
    "    x[:] = xarr                                  # Add the x array from 3.2.2.\n",
    "\n",
    "    # Create y variable.\n",
    "    \n",
    "    y = nc.createVariable(\"y\", \"f4\", (\"y\",))\n",
    "    y.units = \"m\"\n",
    "    y.long_name = \"y coordinate of projection\"\n",
    "    y.standard_name = \"projection_y_coordinate\"\n",
    "    y[:] = yarr                                  # Add the y array from 3.2.2.\n",
    "\n",
    "    # ------------------------------------------------------------------------\n",
    "    #   'lon' and 'lat' are two dimensional. Add variables.\n",
    "    # ------------------------------------------------------------------------\n",
    "    \n",
    "    # Create longitude variable.\n",
    "    \n",
    "    lon = nc.createVariable(\"lon\", \"f4\", (\"y\", \"x\",))\n",
    "    lon.units = \"degrees_east\"\n",
    "    lon.long_name = \"longitude coordinate\"\n",
    "    lon.standard_name = \"longitude\"\n",
    "    lon[:,:] = lonarr2d                          # Add lon array from 3.2.2.\n",
    "    \n",
    "    # Create latitude variable.\n",
    "    \n",
    "    lat = nc.createVariable(\"lat\", \"f4\", (\"y\", \"x\",))\n",
    "    lat.units = \"degrees_north\"\n",
    "    lat.long_name = \"latitude coordinate\"\n",
    "    lat.standard_name = \"latitude\"\n",
    "    lat[:,:] = latarr2d                          # Add lat array from 3.2.2.\n",
    "         \n",
    "    ##########################################################################\n",
    "    #                     Create 'crs' variable.                     \n",
    "    ##########################################################################\n",
    "    #\n",
    "    #   The crs variable is another special CF variable that describes the \n",
    "    #   'grid_mapping' according to the CF convention for projected data. We\n",
    "    #   get this information from via one of a gdal.Dataset's proj methods.\n",
    "    #\n",
    "    #   The crs variable does not store any data - only attributes.\n",
    "    #\n",
    "    # ------------------------------------------------------------------------\n",
    "\n",
    "    # Create the CRS variable. \n",
    "    \n",
    "    grid_mapping_name = \"albers_conical_equal_area\"  # This is a CF standard.\n",
    "    crs = nc.createVariable(grid_mapping_name, \"i2\")\n",
    "    \n",
    "    # Populate the attributes using the osr.SRS. Some required by GMN.\n",
    "    \n",
    "    crs.grid_mapping_name = grid_mapping_name\n",
    "    crs.longitude_of_central_meridian = srs.GetProjParm(\"longitude_of_center\")\n",
    "    crs.latitude_of_projection_origin = srs.GetProjParm(\"latitude_of_origin\")\n",
    "    crs.standard_parallel = [srs.GetProjParm(\"standard_parallel_1\"),\n",
    "                             srs.GetProjParm(\"standard_parallel_2\") ]\n",
    "    crs.false_easting = srs.GetProjParm(\"false_easting\")\n",
    "    crs.false_northing = srs.GetProjParm(\"false_northing\")\n",
    "    crs.semi_major_axis = srs.GetSemiMajor()\n",
    "    crs.inverse_flattening = srs.GetInvFlattening()\n",
    "    crs.crs_wkt = srs.ExportToWkt()\n",
    "\n",
    "    ##########################################################################\n",
    "    #                     Create the data variable.                     \n",
    "    ##########################################################################\n",
    "    #\n",
    "    #   This example only merges one variable time series, so we'll only write\n",
    "    #   one data variable to the output netCDF. Data will be arranged over \n",
    "    #   time, y, and x dimensions. Don't forget to check the CF standard names\n",
    "    #   table for appropriate standard_name attribute.\n",
    "    #\n",
    "    # ------------------------------------------------------------------------\n",
    "\n",
    "    # Create data variable.\n",
    "    \n",
    "    data = nc.createVariable(\n",
    "        \"SnowDepth_500m\",            # UPDATE NAME (Don't know these data.)\n",
    "        \"f4\",                        # Specify data type.\n",
    "        (\"time\", \"y\", \"x\"),          # Specify dimensions.\n",
    "        zlib=True,                   # Compress with zlib.\n",
    "        complevel=4,                 # Specify compression level.\n",
    "        fill_value=-9999.)           # Specify the fill value.\n",
    "    \n",
    "    # Set a few attributes.\n",
    "    \n",
    "    data.grid_mapping = grid_mapping_name            # CF required.\n",
    "    data.standard_name = \"SOME_STANDARD_NAME\"        # CF strongly encouraged.\n",
    "    data.long_name = \"SOME DESCRIPTIVE LONG NAME\"    # CF encouraged.\n",
    "    data.units = \"SOME UNITS\"                        # CF required.\n",
    "    \n",
    "    data.grid_mapping = grid_mapping_name            # CF required.\n",
    "    #data.standard_name = None                       # CF strongly encouraged.\n",
    "    data.long_name = \"SnowModel snow depth\"          # CF encouraged.\n",
    "    data.units = \"cm\"                                # CF required.\n",
    "    \n",
    "    # Add the data from each GeoTIFF in a loop.\n",
    "\n",
    "    for i, t in enumerate(tifs):     # Loop over GeoTIFFs.\n",
    "        ras  = gdal.Open(t)          # Open it.\n",
    "        band = ras.GetRasterBand(1)  # Get the first band.\n",
    "        arr  = band.ReadAsArray()    # Get data as a 2d numpy.ndarray.\n",
    "        ras  = None                  # Dereference the open GeoTIFF.\n",
    "        \n",
    "        arr[np.isnan(arr)] = -9999.  # Set missing values to -9999.\n",
    "        data[i,:,:] = arr            # Add the array to the current timestep.\n",
    "        nc.sync                      # Write changes to disk.\n",
    "        \n",
    "    ##########################################################################\n",
    "    #                     Write the global attributes.                     \n",
    "    ##########################################################################\n",
    "    #\n",
    "    #   Think of the global attributes as file-level attributes that describe\n",
    "    #   the dataset in a way that is similar to a header in a tabular dataset.\n",
    "    #   Some attributes are CF standard attributes. You can put what you like.\n",
    "    #   \n",
    "    # ------------------------------------------------------------------------\n",
    "\n",
    "    nc.Conventions = \"CF-1.6\"\n",
    "    nc.archive     = \"ORNL DAAC\"\n",
    "    \n",
    "\n",
    "# Display the result with ncdump.\n",
    "!ncdump -h MyFirstNetCDF.nc"
   ]
  },
  {
   "cell_type": "code",
   "execution_count": null,
   "metadata": {},
   "outputs": [],
   "source": []
  }
 ],
 "metadata": {
  "kernelspec": {
   "display_name": "Python 3",
   "language": "python",
   "name": "python3"
  },
  "language_info": {
   "codemirror_mode": {
    "name": "ipython",
    "version": 3
   },
   "file_extension": ".py",
   "mimetype": "text/x-python",
   "name": "python",
   "nbconvert_exporter": "python",
   "pygments_lexer": "ipython3",
   "version": "3.7.4"
  },
  "toc": {
   "base_numbering": 1,
   "nav_menu": {},
   "number_sections": true,
   "sideBar": false,
   "skip_h1_title": true,
   "title_cell": "Table of Contents",
   "title_sidebar": "Contents",
   "toc_cell": true,
   "toc_position": {
    "height": "calc(100% - 180px)",
    "left": "10px",
    "top": "150px",
    "width": "165px"
   },
   "toc_section_display": true,
   "toc_window_display": false
  }
 },
 "nbformat": 4,
 "nbformat_minor": 2
}
