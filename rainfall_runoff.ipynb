{
 "cells": [
  {
   "cell_type": "code",
   "execution_count": 3,
   "id": "80d8be04",
   "metadata": {
    "pycharm": {
     "name": "#%%\n"
    }
   },
   "outputs": [],
   "source": [
    "#load data\n",
    "import os\n",
    "root_path=r'C:\\F\\all_basin\\camel_monthly\\02'\n",
    "files=os.listdir(root_path)"
   ]
  },
  {
   "cell_type": "code",
   "execution_count": 4,
   "id": "884f9478",
   "metadata": {
    "pycharm": {
     "name": "#%%\n"
    }
   },
   "outputs": [
    {
     "data": {
      "text/plain": [
       "['01013500monthly.csv',\n",
       " '01022500monthly.csv',\n",
       " '01030500monthly.csv',\n",
       " '01031500monthly.csv',\n",
       " '01047000monthly.csv',\n",
       " '01052500monthly.csv',\n",
       " '01054200monthly.csv',\n",
       " '01055000monthly.csv',\n",
       " '01057000monthly.csv',\n",
       " '01073000monthly.csv',\n",
       " '01078000monthly.csv',\n",
       " '01118300monthly.csv',\n",
       " '01121000monthly.csv',\n",
       " '01123000monthly.csv',\n",
       " '01134500monthly.csv',\n",
       " '01137500monthly.csv',\n",
       " '01139000monthly.csv',\n",
       " '01139800monthly.csv',\n",
       " '01142500monthly.csv',\n",
       " '01144000monthly.csv',\n",
       " '01162500monthly.csv',\n",
       " '01169000monthly.csv',\n",
       " '01170100monthly.csv',\n",
       " '01181000monthly.csv',\n",
       " '01187300monthly.csv',\n",
       " '01333000monthly.csv',\n",
       " '01350000monthly.csv',\n",
       " '01350140monthly.csv',\n",
       " '01365000monthly.csv',\n",
       " '01411300monthly.csv',\n",
       " '01413500monthly.csv',\n",
       " '01414500monthly.csv',\n",
       " '01415000monthly.csv',\n",
       " '01423000monthly.csv',\n",
       " '01435000monthly.csv',\n",
       " '01439500monthly.csv',\n",
       " '01440000monthly.csv',\n",
       " '01440400monthly.csv',\n",
       " '01451800monthly.csv',\n",
       " '01466500monthly.csv',\n",
       " '01484100monthly.csv',\n",
       " '01485500monthly.csv',\n",
       " '01486000monthly.csv',\n",
       " '01487000monthly.csv',\n",
       " '01491000monthly.csv',\n",
       " '01510000monthly.csv',\n",
       " '01516500monthly.csv',\n",
       " '01532000monthly.csv',\n",
       " '01539000monthly.csv',\n",
       " '01542810monthly.csv',\n",
       " '01543000monthly.csv',\n",
       " '01543500monthly.csv',\n",
       " '01544500monthly.csv',\n",
       " '01545600monthly.csv',\n",
       " '01547700monthly.csv',\n",
       " '01548500monthly.csv',\n",
       " '01549500monthly.csv',\n",
       " '01550000monthly.csv',\n",
       " '01552000monthly.csv',\n",
       " '01552500monthly.csv',\n",
       " '01557500monthly.csv',\n",
       " '01567500monthly.csv',\n",
       " '01568000monthly.csv',\n",
       " '01580000monthly.csv',\n",
       " '01583500monthly.csv',\n",
       " '01591400monthly.csv',\n",
       " '01596500monthly.csv',\n",
       " '01605500monthly.csv',\n",
       " '01606500monthly.csv',\n",
       " '01613050monthly.csv',\n",
       " '01620500monthly.csv',\n",
       " '01632000monthly.csv',\n",
       " '01632900monthly.csv',\n",
       " '01634500monthly.csv',\n",
       " '01638480monthly.csv',\n",
       " '01639500monthly.csv',\n",
       " '01644000monthly.csv',\n",
       " '01658500monthly.csv',\n",
       " '01664000monthly.csv',\n",
       " '01666500monthly.csv',\n",
       " '01667500monthly.csv',\n",
       " '01669000monthly.csv',\n",
       " '01669520monthly.csv',\n",
       " '02011400monthly.csv',\n",
       " '02011460monthly.csv',\n",
       " '02013000monthly.csv',\n",
       " '02014000monthly.csv',\n",
       " '02015700monthly.csv',\n",
       " '02016000monthly.csv',\n",
       " '02017500monthly.csv',\n",
       " '02018000monthly.csv',\n",
       " '02027000monthly.csv',\n",
       " '02027500monthly.csv',\n",
       " '02028500monthly.csv',\n",
       " '02038850monthly.csv',\n",
       " '04296000monthly.csv']"
      ]
     },
     "execution_count": 4,
     "metadata": {},
     "output_type": "execute_result"
    }
   ],
   "source": [
    "files\n"
   ]
  },
  {
   "cell_type": "code",
   "execution_count": 16,
   "id": "588b64a3",
   "metadata": {
    "pycharm": {
     "name": "#%%\n"
    }
   },
   "outputs": [
    {
     "data": {
      "text/html": [
       "<div>\n",
       "<style scoped>\n",
       "    .dataframe tbody tr th:only-of-type {\n",
       "        vertical-align: middle;\n",
       "    }\n",
       "\n",
       "    .dataframe tbody tr th {\n",
       "        vertical-align: top;\n",
       "    }\n",
       "\n",
       "    .dataframe thead th {\n",
       "        text-align: right;\n",
       "    }\n",
       "</style>\n",
       "<table border=\"1\" class=\"dataframe\">\n",
       "  <thead>\n",
       "    <tr style=\"text-align: right;\">\n",
       "      <th></th>\n",
       "      <th>PRCP</th>\n",
       "      <th>PET</th>\n",
       "      <th>OBS_RUN</th>\n",
       "    </tr>\n",
       "  </thead>\n",
       "  <tbody>\n",
       "    <tr>\n",
       "      <th>1980-10-01</th>\n",
       "      <td>134.47</td>\n",
       "      <td>29.4733</td>\n",
       "      <td>55.0656</td>\n",
       "    </tr>\n",
       "    <tr>\n",
       "      <th>1980-11-01</th>\n",
       "      <td>153.95</td>\n",
       "      <td>11.1180</td>\n",
       "      <td>76.9592</td>\n",
       "    </tr>\n",
       "    <tr>\n",
       "      <th>1980-12-01</th>\n",
       "      <td>79.54</td>\n",
       "      <td>3.2931</td>\n",
       "      <td>82.5545</td>\n",
       "    </tr>\n",
       "    <tr>\n",
       "      <th>1981-01-01</th>\n",
       "      <td>64.15</td>\n",
       "      <td>5.3490</td>\n",
       "      <td>28.9961</td>\n",
       "    </tr>\n",
       "    <tr>\n",
       "      <th>1981-02-01</th>\n",
       "      <td>88.29</td>\n",
       "      <td>17.7414</td>\n",
       "      <td>107.9626</td>\n",
       "    </tr>\n",
       "    <tr>\n",
       "      <th>...</th>\n",
       "      <td>...</td>\n",
       "      <td>...</td>\n",
       "      <td>...</td>\n",
       "    </tr>\n",
       "    <tr>\n",
       "      <th>2014-08-01</th>\n",
       "      <td>57.99</td>\n",
       "      <td>117.6077</td>\n",
       "      <td>17.3437</td>\n",
       "    </tr>\n",
       "    <tr>\n",
       "      <th>2014-09-01</th>\n",
       "      <td>46.04</td>\n",
       "      <td>72.0792</td>\n",
       "      <td>7.4688</td>\n",
       "    </tr>\n",
       "    <tr>\n",
       "      <th>2014-10-01</th>\n",
       "      <td>207.19</td>\n",
       "      <td>33.0019</td>\n",
       "      <td>48.4921</td>\n",
       "    </tr>\n",
       "    <tr>\n",
       "      <th>2014-11-01</th>\n",
       "      <td>148.48</td>\n",
       "      <td>10.6652</td>\n",
       "      <td>89.7280</td>\n",
       "    </tr>\n",
       "    <tr>\n",
       "      <th>2014-12-01</th>\n",
       "      <td>197.77</td>\n",
       "      <td>6.3539</td>\n",
       "      <td>212.8358</td>\n",
       "    </tr>\n",
       "  </tbody>\n",
       "</table>\n",
       "<p>411 rows × 3 columns</p>\n",
       "</div>"
      ],
      "text/plain": [
       "              PRCP       PET   OBS_RUN\n",
       "1980-10-01  134.47   29.4733   55.0656\n",
       "1980-11-01  153.95   11.1180   76.9592\n",
       "1980-12-01   79.54    3.2931   82.5545\n",
       "1981-01-01   64.15    5.3490   28.9961\n",
       "1981-02-01   88.29   17.7414  107.9626\n",
       "...            ...       ...       ...\n",
       "2014-08-01   57.99  117.6077   17.3437\n",
       "2014-09-01   46.04   72.0792    7.4688\n",
       "2014-10-01  207.19   33.0019   48.4921\n",
       "2014-11-01  148.48   10.6652   89.7280\n",
       "2014-12-01  197.77    6.3539  212.8358\n",
       "\n",
       "[411 rows x 3 columns]"
      ]
     },
     "execution_count": 16,
     "metadata": {},
     "output_type": "execute_result"
    }
   ],
   "source": [
    "import pandas as pd\n",
    "data=pd.read_csv(os.path.join(root_path,files[1]),index_col=0)\n",
    "data.index=pd.to_datetime(data.index)\n",
    "data\n"
   ]
  },
  {
   "cell_type": "code",
   "execution_count": 34,
   "id": "ab098ea2",
   "metadata": {
    "pycharm": {
     "name": "#%%\n"
    }
   },
   "outputs": [
    {
     "data": {
      "text/plain": [
       "DatetimeIndex(['1980-10-01', '1982-06-01', '1984-02-01', '1985-10-01',\n",
       "               '1987-06-01', '1989-02-01', '1990-10-01', '1992-06-01',\n",
       "               '1994-02-01', '1995-10-01', '1997-06-01', '1999-02-01',\n",
       "               '2000-10-01', '2002-06-01', '2004-02-01', '2005-10-01',\n",
       "               '2007-06-01', '2009-02-01', '2010-10-01', '2012-06-01',\n",
       "               '2014-02-01'],\n",
       "              dtype='datetime64[ns]', freq=None)"
      ]
     },
     "execution_count": 34,
     "metadata": {},
     "output_type": "execute_result"
    }
   ],
   "source": [
    "precipitation.index[0:-1:20]"
   ]
  },
  {
   "cell_type": "code",
   "execution_count": 35,
   "id": "e72f13eb",
   "metadata": {
    "pycharm": {
     "name": "#%%\n"
    }
   },
   "outputs": [
    {
     "data": {
      "text/plain": [
       "1980-10-01    134.47\n",
       "1982-06-01    159.88\n",
       "1984-02-01    171.25\n",
       "1985-10-01     76.00\n",
       "1987-06-01    104.47\n",
       "1989-02-01     86.29\n",
       "1990-10-01    168.36\n",
       "1992-06-01    132.69\n",
       "1994-02-01     26.28\n",
       "1995-10-01    141.53\n",
       "1997-06-01     75.44\n",
       "1999-02-01    118.96\n",
       "2000-10-01    116.85\n",
       "2002-06-01     82.59\n",
       "2004-02-01     35.83\n",
       "2005-10-01    340.47\n",
       "2007-06-01     61.54\n",
       "2009-02-01     78.46\n",
       "2010-10-01    175.52\n",
       "2012-06-01    161.59\n",
       "2014-02-01    103.44\n",
       "Name: PRCP, dtype: float64"
      ]
     },
     "execution_count": 35,
     "metadata": {},
     "output_type": "execute_result"
    }
   ],
   "source": [
    "precipitation[0:-1:20]"
   ]
  },
  {
   "cell_type": "code",
   "execution_count": 60,
   "id": "0f3208b7",
   "metadata": {
    "pycharm": {
     "name": "#%%\n"
    }
   },
   "outputs": [
    {
     "data": {
      "text/plain": [
       "(0.0, 197.7045)"
      ]
     },
     "execution_count": 60,
     "metadata": {},
     "output_type": "execute_result"
    },
    {
     "data": {
      "image/png": "[encoded data removed]",
      "text/plain": [
       "<Figure size 1080x360 with 1 Axes>"
      ]
     },
     "metadata": {
      "needs_background": "light"
     },
     "output_type": "display_data"
    }
   ],
   "source": [
    "\n",
    "import matplotlib.dates as mdate\n",
    "precipitation=data['PRCP']\n",
    "fig, ax= plt.subplots( figsize=(15, 5))\n",
    "#ax.plot(precipitation.index,precipitation, color='r', linestyle='-',\n",
    "                 #label='observed', linewidth=1.5)\n",
    "ax.bar(precipitation.index[1:20],precipitation[1:20], color='r', width = 15,\n",
    "                 label='observed', #linewidth=1.5\n",
    "      )\n",
    "ax.set_xlim([precipitation.index[0], precipitation.index[20]])\n",
    "#ax.set_xticks为设置x刻度轴稀疏程度\n",
    "#ax.set_xticklabels设置x的标签\n",
    "ax.set_xticks(precipitation.index[0:-1:40], #labels=precipitation.index[0:-1:20]\n",
    "             )\n",
    "ax.set_xticklabels(precipitation.index[0:-1:40],rotation=45,fontsize='small')\n",
    "ax.xaxis.set_major_formatter(mdate.DateFormatter('%m/%Y'))\n",
    "ax.set_ylim(ymin=0,)"
   ]
  },
  {
   "cell_type": "code",
   "execution_count": 76,
   "id": "267c9794",
   "metadata": {
    "pycharm": {
     "name": "#%%\n"
    }
   },
   "outputs": [
    {
     "data": {
      "text/plain": [
       "1980-10-01     55.0656\n",
       "1980-11-01     76.9592\n",
       "1980-12-01     82.5545\n",
       "1981-01-01     28.9961\n",
       "1981-02-01    107.9626\n",
       "                ...   \n",
       "2014-08-01     17.3437\n",
       "2014-09-01      7.4688\n",
       "2014-10-01     48.4921\n",
       "2014-11-01     89.7280\n",
       "2014-12-01    212.8358\n",
       "Name: OBS_RUN, Length: 411, dtype: float64"
      ]
     },
     "execution_count": 76,
     "metadata": {},
     "output_type": "execute_result"
    }
   ],
   "source": [
    "discharge=data['OBS_RUN']\n",
    "discharge"
   ]
  },
  {
   "cell_type": "code",
   "execution_count": 74,
   "id": "719d65d1",
   "metadata": {
    "pycharm": {
     "name": "#%%\n"
    }
   },
   "outputs": [
    {
     "data": {
      "image/png": "[encoded data removed]",
      "text/plain": [
       "<Figure size 1080x360 with 1 Axes>"
      ]
     },
     "metadata": {
      "needs_background": "light"
     },
     "output_type": "display_data"
    }
   ],
   "source": [
    "import matplotlib.dates as mdate\n",
    "\n",
    "precipitation=data['PRCP']\n",
    "discharge=data['OBS_RUN']\n",
    "fig, ax= plt.subplots( figsize=(15, 5))\n",
    "#ax.plot(precipitation.index,precipitation, color='r', linestyle='-',\n",
    "                 #label='observed', linewidth=1.5)\n",
    "ax.bar(precipitation.index,precipitation, color= \"royalblue\", width = 14,\n",
    "                 label='observed', #linewidth=1.5\n",
    "      )\n",
    "ax.set_xlim([precipitation.index[0], precipitation.index[20]])\n",
    "#ax.set_xticks为设置x刻度轴稀疏程度\n",
    "#ax.set_xticklabels设置x的标签\n",
    "ax.set_xticks(precipitation.index[0:-1:30], #labels=precipitation.index[0:-1:20]\n",
    "             )\n",
    "ax.set_xticklabels(precipitation.index[0:-1:30],rotation=45,fontsize='small')\n",
    "ax.xaxis.set_major_formatter(mdate.DateFormatter('%Y-%m'))\n",
    "ax.set_ylim(ymin=0,)\n",
    "ax.invert_yaxis()"
   ]
  },
  {
   "cell_type": "code",
   "execution_count": null,
   "id": "cb559a36",
   "metadata": {
    "pycharm": {
     "name": "#%%\n"
    }
   },
   "outputs": [],
   "source": []
  },
  {
   "cell_type": "code",
   "execution_count": 91,
   "id": "d9972426",
   "metadata": {
    "pycharm": {
     "name": "#%%\n"
    }
   },
   "outputs": [
    {
     "data": {
      "image/png": "[encoded data removed]",
      "text/plain": [
       "<Figure size 1296x504 with 2 Axes>"
      ]
     },
     "metadata": {
      "needs_background": "light"
     },
     "output_type": "display_data"
    }
   ],
   "source": [
    "fig=plt.figure(figsize=(18, 7))\n",
    "fig.tight_layout()\n",
    "gs=plt.GridSpec(10,3)\n",
    "#TEXT OF CALIBRATION RESULTS这一部分用来绘制表头\n",
    "ax0=plt.subplot(gs[0,:])\n",
    "texts='basin: basin_number & basin_information'\n",
    "ax0.text(0.5, 2.0, texts, verticalalignment='top', horizontalalignment='center', transform=ax0.transAxes,fontsize=10)\n",
    "plt.axis('off')\n",
    "#Figure of the precipitation time series\n",
    "ax=plt.subplot(gs[0:4,:])\n",
    "ax.bar(precipitation.index,precipitation, color= \"royalblue\", width = 14,\n",
    "                 label='observed', #linewidth=1.5\n",
    "      )\n",
    "ax.set_xlim([precipitation.index[0], precipitation.index[20]])\n",
    "#ax.set_xticks为设置x刻度轴稀疏程度\n",
    "#ax.set_xticklabels设置x的标签\n",
    "ax.set_xticks(precipitation.index[0:-1:30], #labels=precipitation.index[0:-1:20]\n",
    "             )\n",
    "ax.set_xticklabels(precipitation.index[0:-1:30],rotation=20,fontsize='small')\n",
    "ax.xaxis.set_major_formatter(mdate.DateFormatter('%Y-%m'))\n",
    "ax.set_ylim(ymin=0,)\n",
    "ax.invert_yaxis()\n",
    "ax.set_title('(a) precipitation time series for calibration period', )\n",
    "\n",
    "# Figure of the calibrate period river flow time series\n",
    "ax1 = plt.subplot(gs[5:10, :])\n",
    "ax1.plot(discharge.index, discharge.values, color='r', linestyle='-', label='observed',\n",
    "         linewidth=0.5)\n",
    "# ax1.plot(calibrate_simulated_flow.index, calibrate_simulated_flow.values, color='b', linestyle='--', label='simulated',\n",
    "#          linewidth=2)\n",
    "# show date\n",
    "ax1.set_xlim([discharge.index[0], discharge.index[-1]])\n",
    "ax1.set_xticks(precipitation.index[0:-1:30], #labels=precipitation.index[0:-1:20]\n",
    "             )\n",
    "ax1.set_xticklabels(precipitation.index[0:-1:30],rotation=20,fontsize='small')\n",
    "ax1.xaxis.set_major_formatter(mdate.DateFormatter('%Y-%m'))  \n",
    "ax1.set_ylim(ymin=0)\n",
    "ax1.set_title('(b) Streamflow time series for calibration period', )\n",
    "leg = ax1.legend(['Observed', 'Simulated'], fancybox=True, framealpha=0.8, prop={'size': 10}, labelspacing=0.1, loc=1)\n",
    "leg.get_frame().set_edgecolor('white')\n"
   ]
  },
  {
   "cell_type": "code",
   "execution_count": 14,
   "id": "23312597",
   "metadata": {
    "pycharm": {
     "name": "#%%\n"
    }
   },
   "outputs": [
    {
     "data": {
      "image/png": "[encoded data removed]",
      "text/plain": [
       "<Figure size 432x288 with 2 Axes>"
      ]
     },
     "metadata": {},
     "output_type": "display_data"
    }
   ],
   "source": [
    "import matplotlib.pyplot as plt\n",
    "from matplotlib.gridspec import GridSpec\n",
    "\n",
    "\n",
    "def format_axes(fig):\n",
    "    for i, ax in enumerate(fig.axes):\n",
    "        ax.text(0.5, 0.5, \"ax%d\" % (i+1), va=\"center\", ha=\"center\")\n",
    "        ax.tick_params(labelbottom=False, labelleft=False)\n",
    "\n",
    "fig = plt.figure(constrained_layout=True)\n",
    "\n",
    "gs = GridSpec(5, 3, figure=fig)\n",
    "ax1 = fig.add_subplot(gs[0:2, :])\n",
    "# identical to ax1 = plt.subplot(gs.new_subplotspec((0, 0), colspan=3))\n",
    "ax2 = fig.add_subplot(gs[2:5, :])\n",
    "# ax3 = fig.add_subplot(gs[1:,])\n",
    "# ax4 = fig.add_subplot(gs[-1, 0])\n",
    "#ax5 = fig.add_subplot(gs[-1, -2])\n",
    "\n",
    "fig.suptitle(\"GridSpec\")\n",
    "format_axes(fig)\n",
    "\n",
    "plt.show()"
   ]
  },
  {
   "cell_type": "code",
   "execution_count": 2,
   "id": "75641cae",
   "metadata": {
    "pycharm": {
     "name": "#%%\n"
    }
   },
   "outputs": [
    {
     "name": "stdout",
     "output_type": "stream",
     "text": [
      "basin: basin_number & basin_nse:3\n"
     ]
    }
   ],
   "source": [
    "nse=3\n",
    "texts = 'basin: basin_number & basin_nse:{}'.format(nse)\n",
    "print(texts)"
   ]
  }
 ],
 "metadata": {
  "kernelspec": {
   "display_name": "Python 3",
   "language": "python",
   "name": "python3"
  },
  "language_info": {
   "codemirror_mode": {
    "name": "ipython",
    "version": 3
   },
   "file_extension": ".py",
   "mimetype": "text/x-python",
   "name": "python",
   "nbconvert_exporter": "python",
   "pygments_lexer": "ipython3",
   "version": "3.8.8"
  }
 },
 "nbformat": 4,
 "nbformat_minor": 5
}