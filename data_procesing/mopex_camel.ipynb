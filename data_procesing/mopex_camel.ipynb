{
 "cells": [
  {
   "cell_type": "code",
   "execution_count": 13,
   "id": "00dba39c",
   "metadata": {},
   "outputs": [
    {
     "data": {
      "text/plain": [
       "'01048000.dly.csv'"
      ]
     },
     "execution_count": 13,
     "metadata": {},
     "output_type": "execute_result"
    }
   ],
   "source": [
    "import os\n",
    "mopex_path=r'F:\\hydrogr\\gr4j\\mopex_data_set\\Us_438_Daily'\n",
    "os.chdir(mopex_path)\n",
    "a=os.listdir(mopex_path)\n",
    "a\n",
    "b=a.copy()\n",
    "b[0]"
   ]
  },
  {
   "cell_type": "code",
   "execution_count": 14,
   "id": "116e3c3b",
   "metadata": {},
   "outputs": [
    {
     "name": "stdout",
     "output_type": "stream",
     "text": [
      "['01048000', '01055500', '01060000', '01064500', '01076500', '01127000', '01138000', '01197500', '01200000', '01321000', '01329000', '01329500', '01334500', '01348000', '01361000', '01371500', '01372500', '01421000', '01423000', '01426500', '01445000', '01445500', '01500500', '01503000', '01512500', '01514000', '01518000', '01520000', '01520500', '01531000', '01534000', '01541000', '01541500', '01543500', '01548500', '01556000', '01558000', '01559000', '01560000', '01562000', '01567000', '01574000', '01595000', '01606500', '01608500', '01610000', '01611500', '01628500', '01631000', '01634000', '01643000', '01649500', '01663500', '01664000', '01667500', '01668000', '01672500', '01674500', '02016000', '02018000', '02030500', '02055000', '02058400', '02083500', '02102000', '02116500', '02118000', '02121000', '02126000', '02135000', '02138500', '02143000', '02143040', '02143500', '02156500', '02165000', '02174000', '02192000', '02202000', '02202500', '02217500', '02218500', '02219500', '02228000', '02236000', '02273000', '02296750', '02329000', '02339500', '02347500', '02349500', '02365500', '02375500', '02383500', '02387000', '02387500', '02414500', '02437000', '02448000', '02456500', '02472000', '02475000', '02475500', '02478500', '02479300', '02482000', '02486000', '02492000', '03010500', '03011020', '03020500', '03024000', '03032500', '03050500', '03051000', '03054500', '03065000', '03069000', '03069500', '03070000', '03075500', '03079000', '03109500', '03111500', '03114500', '03136000', '03155500', '03159500', '03161000', '03164000', '03165500', '03167000', '03168000', '03173000', '03175500', '03179000', '03180500', '03182500', '03183500', '03184000', '03186500', '03198500', '03199000', '03213000', '03214000', '03237500', '03238500', '03251500', '03252500', '03253500', '03265000', '03266000', '03269500', '03274000', '03281500', '03289500', '03301500', '03303000', '03308500', '03324300', '03326500', '03328500', '03331500', '03339500', '03345500', '03346000', '03348000', '03349000', '03361500', '03361650', '03362500', '03363000', '03364000', '03365500', '03381500', '03410500', '03438000', '03443000', '03448000', '03451500', '03455000', '03465500', '03470000', '03473000', '03490000', '03504000', '03512000', '03521500', '03524000', '03528000', '03531500', '03532000', '03540500', '03550000', '03567500', '03574500', '03603000', '04073500', '04079000', '04100500', '04113000', '04115000', '04144000', '04164000', '04165500', '04176500', '04178000', '04183500', '04185000', '04191500', '04198000', '04201500', '04212000', '04221000', '04221500', '04223000', '05053000', '05244000', '05280000', '05320500', '05383000', '05408000', '05410490', '05410500', '05412500', '05418500', '05422000', '05430500', '05435500', '05440000', '05447500', '05451500', '05452000', '05454500', '05455500', '05457700', '05458500', '05462000', '05471500', '05472500', '05476500', '05479000', '05481000', '05482500', '05484500', '05502040', '05507500', '05508000', '05514500', '05515500', '05517000', '05517500', '05518000', '05520500', '05526000', '05542000', '05546500', '05552500', '05554500', '05555300', '05555500', '05569500', '05570000', '05582000', '05584500', '05585000', '05592500', '05593000', '05594000', '06191500', '06192500', '06225500', '06334500', '06340500', '06359500', '06426500', '06441500', '06446000', '06454500', '06480000', '06600500', '06606600', '06607200', '06609500', '06799500', '06808500', '06810000', '06811500', '06813000', '06815000', '06817000', '06817500', '06820500', '06847000', '06860000', '06868000', '06869500', '06883000', '06884400', '06884500', '06885500', '06888500', '06890500', '06892000', '06894000', '06897500', '06898000', '06899500', '06908000', '06913500', '06914000', '06928000', '06933500', '07019000', '07029500', '07049000', '07052500', '07056000', '07057500', '07058000', '07067000', '07068000', '07069500', '07072000', '07074000', '07144200', '07144780', '07147070', '07147800', '07152000', '07163000', '07172000', '07177500', '07183000', '07186000', '07196500', '07197000', '07211500', '07221000', '07222500', '07243500', '07252000', '07261000', '07288500', '07289500', '07290000', '07307800', '07340000', '07346000', '07346050', '07346070', '07348000', '07363500', '07375500', '07378000', '07378500', '08013500', '08015500', '08032000', '08033500', '08055500', '08085500', '08095000', '08103800', '08146000', '08150000', '08150700', '08167500', '08171000', '08171300', '08172000', '08189500', '08205500', '08340500', '09127998', '09132500', '09251000', '09292500', '09299500', '09430500', '09431500', '09442692', '09444500', '09497500', '10296000', '10296500', '10301500', '10309000', '10312000', '11025500', '11080500', '11138500', '11160000', '11210500', '11213500', '11222000', '11224500', '11281000', '11342000', '11355500', '11401500', '11403000', '11413000', '11427000', '11497500', '11501000', '11530000', '11532500', '12027500', '12098500', '12134500', '12144500', '12149000', '12340000', '12358500', '12413000', '12413500', '12449500', '12449950', '12459000', '12462500', '13186000', '13200000', '13298500', '13302500', '13336500', '13337000', '13340500', '13340600', '13351000', '14080500', '14101500', '14113000', '14232500', '14233400', '14308000', '14321000', '14359000'] 438\n"
     ]
    }
   ],
   "source": [
    "b=[i.split('.')[0] for i in b]\n",
    "print(b,len(b))"
   ]
  },
  {
   "cell_type": "markdown",
   "id": "38a03434",
   "metadata": {},
   "source": [
    "### detertmin the list has the same"
   ]
  },
  {
   "cell_type": "code",
   "execution_count": 11,
   "id": "4127422e",
   "metadata": {},
   "outputs": [
    {
     "name": "stdout",
     "output_type": "stream",
     "text": [
      "[2, 3]\n"
     ]
    }
   ],
   "source": [
    "\n",
    "a = [1,2,3]\n",
    "b = [2,3,4,5]\n",
    "inter = list(set(a).intersection(set(b)))\n",
    "print(inter)"
   ]
  },
  {
   "cell_type": "code",
   "execution_count": 16,
   "id": "b45d1c7e",
   "metadata": {},
   "outputs": [
    {
     "data": {
      "text/plain": [
       "['01013500_streamflow_qc.txt',\n",
       " '01022500_streamflow_qc.txt',\n",
       " '01030500_streamflow_qc.txt',\n",
       " '01031500_streamflow_qc.txt',\n",
       " '01047000_streamflow_qc.txt',\n",
       " '01052500_streamflow_qc.txt',\n",
       " '01054200_streamflow_qc.txt',\n",
       " '01055000_streamflow_qc.txt',\n",
       " '01057000_streamflow_qc.txt',\n",
       " '01073000_streamflow_qc.txt',\n",
       " '01078000_streamflow_qc.txt',\n",
       " '01118300_streamflow_qc.txt',\n",
       " '01121000_streamflow_qc.txt',\n",
       " '01123000_streamflow_qc.txt',\n",
       " '01134500_streamflow_qc.txt',\n",
       " '01137500_streamflow_qc.txt',\n",
       " '01139000_streamflow_qc.txt',\n",
       " '01139800_streamflow_qc.txt',\n",
       " '01142500_streamflow_qc.txt',\n",
       " '01144000_streamflow_qc.txt',\n",
       " '01162500_streamflow_qc.txt',\n",
       " '01169000_streamflow_qc.txt',\n",
       " '01170100_streamflow_qc.txt',\n",
       " '01181000_streamflow_qc.txt',\n",
       " '01187300_streamflow_qc.txt',\n",
       " '01195100_streamflow_qc.txt',\n",
       " '04296000_streamflow_qc.txt']"
      ]
     },
     "execution_count": 16,
     "metadata": {},
     "output_type": "execute_result"
    }
   ],
   "source": [
    "folder_01=r'F:\\hydrogr\\gr2m\\CAMELS\\basin_timeseries_v1p2_metForcing_obsFlow\\basin_dataset_public_v1p2\\usgs_streamflow\\01'\n",
    "folder01_list=os.listdir(folder_01)\n",
    "folder01_list"
   ]
  },
  {
   "cell_type": "code",
   "execution_count": 17,
   "id": "471c587a",
   "metadata": {},
   "outputs": [
    {
     "data": {
      "text/plain": [
       "['01013500',\n",
       " '01022500',\n",
       " '01030500',\n",
       " '01031500',\n",
       " '01047000',\n",
       " '01052500',\n",
       " '01054200',\n",
       " '01055000',\n",
       " '01057000',\n",
       " '01073000',\n",
       " '01078000',\n",
       " '01118300',\n",
       " '01121000',\n",
       " '01123000',\n",
       " '01134500',\n",
       " '01137500',\n",
       " '01139000',\n",
       " '01139800',\n",
       " '01142500',\n",
       " '01144000',\n",
       " '01162500',\n",
       " '01169000',\n",
       " '01170100',\n",
       " '01181000',\n",
       " '01187300',\n",
       " '01195100',\n",
       " '04296000']"
      ]
     },
     "execution_count": 17,
     "metadata": {},
     "output_type": "execute_result"
    }
   ],
   "source": [
    "c=folder01_list.copy()\n",
    "c=[i.split('_')[0] for i in c]\n",
    "c"
   ]
  },
  {
   "cell_type": "code",
   "execution_count": 18,
   "id": "6d01fdc9",
   "metadata": {},
   "outputs": [
    {
     "name": "stdout",
     "output_type": "stream",
     "text": [
      "[]\n"
     ]
    }
   ],
   "source": [
    "inter = list(set(c).intersection(set(b)))\n",
    "print(inter)"
   ]
  },
  {
   "cell_type": "markdown",
   "id": "77032cdc",
   "metadata": {},
   "source": [
    "### loop the camel usgs streamflow folder to determin the same guage of two dataset"
   ]
  },
  {
   "cell_type": "code",
   "execution_count": 22,
   "id": "a6dac916",
   "metadata": {},
   "outputs": [
    {
     "data": {
      "text/plain": [
       "['01013500_streamflow_qc.txt',\n",
       " '01022500_streamflow_qc.txt',\n",
       " '01030500_streamflow_qc.txt',\n",
       " '01031500_streamflow_qc.txt',\n",
       " '01047000_streamflow_qc.txt',\n",
       " '01052500_streamflow_qc.txt',\n",
       " '01054200_streamflow_qc.txt',\n",
       " '01055000_streamflow_qc.txt',\n",
       " '01057000_streamflow_qc.txt',\n",
       " '01073000_streamflow_qc.txt',\n",
       " '01078000_streamflow_qc.txt',\n",
       " '01118300_streamflow_qc.txt',\n",
       " '01121000_streamflow_qc.txt',\n",
       " '01123000_streamflow_qc.txt',\n",
       " '01134500_streamflow_qc.txt',\n",
       " '01137500_streamflow_qc.txt',\n",
       " '01139000_streamflow_qc.txt',\n",
       " '01139800_streamflow_qc.txt',\n",
       " '01142500_streamflow_qc.txt',\n",
       " '01144000_streamflow_qc.txt',\n",
       " '01162500_streamflow_qc.txt',\n",
       " '01169000_streamflow_qc.txt',\n",
       " '01170100_streamflow_qc.txt',\n",
       " '01181000_streamflow_qc.txt',\n",
       " '01187300_streamflow_qc.txt',\n",
       " '01195100_streamflow_qc.txt',\n",
       " '04296000_streamflow_qc.txt']"
      ]
     },
     "execution_count": 22,
     "metadata": {},
     "output_type": "execute_result"
    }
   ],
   "source": [
    "tes=os.listdir(r'F:\\hydrogr\\gr2m\\CAMELS\\basin_timeseries_v1p2_metForcing_obsFlow\\basin_dataset_public_v1p2\\usgs_streamflow\\01')\n",
    "tes"
   ]
  },
  {
   "cell_type": "code",
   "execution_count": 23,
   "id": "ba8adf4d",
   "metadata": {},
   "outputs": [
    {
     "name": "stdout",
     "output_type": "stream",
     "text": [
      "F:\\hydrogr\\gr2m\\CAMELS\\basin_timeseries_v1p2_metForcing_obsFlow\\basin_dataset_public_v1p2\\usgs_streamflow\\01\n",
      "[]\n",
      "F:\\hydrogr\\gr2m\\CAMELS\\basin_timeseries_v1p2_metForcing_obsFlow\\basin_dataset_public_v1p2\\usgs_streamflow\\02\n",
      "['02018000', '01667500', '01664000', '01543500', '01548500', '01423000', '02016000', '01606500']\n",
      "F:\\hydrogr\\gr2m\\CAMELS\\basin_timeseries_v1p2_metForcing_obsFlow\\basin_dataset_public_v1p2\\usgs_streamflow\\03\n",
      "['02472000', '02143040', '02479300', '02143000']\n",
      "F:\\hydrogr\\gr2m\\CAMELS\\basin_timeseries_v1p2_metForcing_obsFlow\\basin_dataset_public_v1p2\\usgs_streamflow\\04\n",
      "['04221000', '04185000']\n",
      "F:\\hydrogr\\gr2m\\CAMELS\\basin_timeseries_v1p2_metForcing_obsFlow\\basin_dataset_public_v1p2\\usgs_streamflow\\05\n",
      "['03173000', '03164000', '03069500', '03237500', '03182500', '03161000', '03238500', '03281500', '03186500', '03346000', '03180500']\n",
      "F:\\hydrogr\\gr2m\\CAMELS\\basin_timeseries_v1p2_metForcing_obsFlow\\basin_dataset_public_v1p2\\usgs_streamflow\\06\n",
      "['03504000', '03574500', '03473000']\n",
      "F:\\hydrogr\\gr2m\\CAMELS\\basin_timeseries_v1p2_metForcing_obsFlow\\basin_dataset_public_v1p2\\usgs_streamflow\\07\n",
      "['05584500', '05514500', '05585000', '05412500', '05408000']\n",
      "F:\\hydrogr\\gr2m\\CAMELS\\basin_timeseries_v1p2_metForcing_obsFlow\\basin_dataset_public_v1p2\\usgs_streamflow\\08\n",
      "[]\n",
      "F:\\hydrogr\\gr2m\\CAMELS\\basin_timeseries_v1p2_metForcing_obsFlow\\basin_dataset_public_v1p2\\usgs_streamflow\\09\n",
      "[]\n",
      "F:\\hydrogr\\gr2m\\CAMELS\\basin_timeseries_v1p2_metForcing_obsFlow\\basin_dataset_public_v1p2\\usgs_streamflow\\10\n",
      "['06441500', '06888500', '06892000', '06191500', '06885500']\n",
      "F:\\hydrogr\\gr2m\\CAMELS\\basin_timeseries_v1p2_metForcing_obsFlow\\basin_dataset_public_v1p2\\usgs_streamflow\\11\n",
      "['07197000', '07057500', '07056000', '07261000', '07068000', '07067000']\n",
      "F:\\hydrogr\\gr2m\\CAMELS\\basin_timeseries_v1p2_metForcing_obsFlow\\basin_dataset_public_v1p2\\usgs_streamflow\\12\n",
      "['08189500', '08171300']\n",
      "F:\\hydrogr\\gr2m\\CAMELS\\basin_timeseries_v1p2_metForcing_obsFlow\\basin_dataset_public_v1p2\\usgs_streamflow\\13\n",
      "[]\n",
      "F:\\hydrogr\\gr2m\\CAMELS\\basin_timeseries_v1p2_metForcing_obsFlow\\basin_dataset_public_v1p2\\usgs_streamflow\\14\n",
      "[]\n",
      "F:\\hydrogr\\gr2m\\CAMELS\\basin_timeseries_v1p2_metForcing_obsFlow\\basin_dataset_public_v1p2\\usgs_streamflow\\15\n",
      "['09430500']\n",
      "F:\\hydrogr\\gr2m\\CAMELS\\basin_timeseries_v1p2_metForcing_obsFlow\\basin_dataset_public_v1p2\\usgs_streamflow\\16\n",
      "[]\n",
      "F:\\hydrogr\\gr2m\\CAMELS\\basin_timeseries_v1p2_metForcing_obsFlow\\basin_dataset_public_v1p2\\usgs_streamflow\\17\n",
      "['13340600', '12358500', '13337000']\n",
      "F:\\hydrogr\\gr2m\\CAMELS\\basin_timeseries_v1p2_metForcing_obsFlow\\basin_dataset_public_v1p2\\usgs_streamflow\\18\n",
      "['11532500', '11224500']\n"
     ]
    }
   ],
   "source": [
    "Folder=['01','02','03','04','05','06','07','08','09','10','11','12','13',\n",
    "       '14','15','16','17','18']\n",
    "for num in Folder:\n",
    "    base_path=r'F:\\hydrogr\\gr2m\\CAMELS\\basin_timeseries_v1p2_metForcing_obsFlow\\basin_dataset_public_v1p2\\usgs_streamflow'\n",
    "    path=os.path.join(base_path,num)\n",
    "    print(path)\n",
    "    guage_list_orin=os.listdir(path)\n",
    "    guage_list=[i.split('_')[0] for i in guage_list_orin]\n",
    "    inter = list(set(guage_list).intersection(set(b)))\n",
    "    print(inter)\n",
    "    \n",
    "    "
   ]
  },
  {
   "cell_type": "code",
   "execution_count": 24,
   "id": "228c1769",
   "metadata": {},
   "outputs": [
    {
     "name": "stdout",
     "output_type": "stream",
     "text": [
      "F:\\hydrogr\\gr2m\\CAMELS\\basin_timeseries_v1p2_metForcing_obsFlow\\basin_dataset_public_v1p2\\usgs_streamflow\\01\n",
      "[]\n",
      "F:\\hydrogr\\gr2m\\CAMELS\\basin_timeseries_v1p2_metForcing_obsFlow\\basin_dataset_public_v1p2\\usgs_streamflow\\02\n",
      "['02018000', '01667500', '01664000', '01543500', '01548500', '01423000', '02016000', '01606500']\n",
      "F:\\hydrogr\\gr2m\\CAMELS\\basin_timeseries_v1p2_metForcing_obsFlow\\basin_dataset_public_v1p2\\usgs_streamflow\\03\n",
      "['02472000', '02143040', '02479300', '02143000']\n",
      "F:\\hydrogr\\gr2m\\CAMELS\\basin_timeseries_v1p2_metForcing_obsFlow\\basin_dataset_public_v1p2\\usgs_streamflow\\04\n",
      "['04221000', '04185000']\n",
      "F:\\hydrogr\\gr2m\\CAMELS\\basin_timeseries_v1p2_metForcing_obsFlow\\basin_dataset_public_v1p2\\usgs_streamflow\\05\n",
      "['03173000', '03164000', '03069500', '03237500', '03182500', '03161000', '03238500', '03281500', '03186500', '03346000', '03180500']\n",
      "F:\\hydrogr\\gr2m\\CAMELS\\basin_timeseries_v1p2_metForcing_obsFlow\\basin_dataset_public_v1p2\\usgs_streamflow\\06\n",
      "['03504000', '03574500', '03473000']\n",
      "F:\\hydrogr\\gr2m\\CAMELS\\basin_timeseries_v1p2_metForcing_obsFlow\\basin_dataset_public_v1p2\\usgs_streamflow\\07\n",
      "['05584500', '05514500', '05585000', '05412500', '05408000']\n",
      "F:\\hydrogr\\gr2m\\CAMELS\\basin_timeseries_v1p2_metForcing_obsFlow\\basin_dataset_public_v1p2\\usgs_streamflow\\08\n",
      "[]\n",
      "F:\\hydrogr\\gr2m\\CAMELS\\basin_timeseries_v1p2_metForcing_obsFlow\\basin_dataset_public_v1p2\\usgs_streamflow\\09\n",
      "[]\n",
      "F:\\hydrogr\\gr2m\\CAMELS\\basin_timeseries_v1p2_metForcing_obsFlow\\basin_dataset_public_v1p2\\usgs_streamflow\\10\n",
      "['06441500', '06888500', '06892000', '06191500', '06885500']\n",
      "F:\\hydrogr\\gr2m\\CAMELS\\basin_timeseries_v1p2_metForcing_obsFlow\\basin_dataset_public_v1p2\\usgs_streamflow\\11\n",
      "['07197000', '07057500', '07056000', '07261000', '07068000', '07067000']\n",
      "F:\\hydrogr\\gr2m\\CAMELS\\basin_timeseries_v1p2_metForcing_obsFlow\\basin_dataset_public_v1p2\\usgs_streamflow\\12\n",
      "['08189500', '08171300']\n",
      "F:\\hydrogr\\gr2m\\CAMELS\\basin_timeseries_v1p2_metForcing_obsFlow\\basin_dataset_public_v1p2\\usgs_streamflow\\13\n",
      "[]\n",
      "F:\\hydrogr\\gr2m\\CAMELS\\basin_timeseries_v1p2_metForcing_obsFlow\\basin_dataset_public_v1p2\\usgs_streamflow\\14\n",
      "[]\n",
      "F:\\hydrogr\\gr2m\\CAMELS\\basin_timeseries_v1p2_metForcing_obsFlow\\basin_dataset_public_v1p2\\usgs_streamflow\\15\n",
      "['09430500']\n",
      "F:\\hydrogr\\gr2m\\CAMELS\\basin_timeseries_v1p2_metForcing_obsFlow\\basin_dataset_public_v1p2\\usgs_streamflow\\16\n",
      "[]\n",
      "F:\\hydrogr\\gr2m\\CAMELS\\basin_timeseries_v1p2_metForcing_obsFlow\\basin_dataset_public_v1p2\\usgs_streamflow\\17\n",
      "['13340600', '12358500', '13337000']\n",
      "F:\\hydrogr\\gr2m\\CAMELS\\basin_timeseries_v1p2_metForcing_obsFlow\\basin_dataset_public_v1p2\\usgs_streamflow\\18\n",
      "['11532500', '11224500']\n"
     ]
    }
   ],
   "source": [
    "Folder=['01','02','03','04','05','06','07','08','09','10','11','12','13',\n",
    "       '14','15','16','17','18']\n",
    "long_guage=[]\n",
    "for num in Folder:\n",
    "    base_path=r'F:\\hydrogr\\gr2m\\CAMELS\\basin_timeseries_v1p2_metForcing_obsFlow\\basin_dataset_public_v1p2\\usgs_streamflow'\n",
    "    path=os.path.join(base_path,num)\n",
    "    print(path)\n",
    "    guage_list_orin=os.listdir(path)\n",
    "    guage_list=[i.split('_')[0] for i in guage_list_orin]\n",
    "    inter = list(set(guage_list).intersection(set(b)))\n",
    "    print(inter)\n",
    "    long_guage.extend(inter)"
   ]
  },
  {
   "cell_type": "code",
   "execution_count": 26,
   "id": "a97d4d48",
   "metadata": {},
   "outputs": [
    {
     "name": "stdout",
     "output_type": "stream",
     "text": [
      "52 ['02018000', '01667500', '01664000', '01543500', '01548500', '01423000', '02016000', '01606500', '02472000', '02143040', '02479300', '02143000', '04221000', '04185000', '03173000', '03164000', '03069500', '03237500', '03182500', '03161000', '03238500', '03281500', '03186500', '03346000', '03180500', '03504000', '03574500', '03473000', '05584500', '05514500', '05585000', '05412500', '05408000', '06441500', '06888500', '06892000', '06191500', '06885500', '07197000', '07057500', '07056000', '07261000', '07068000', '07067000', '08189500', '08171300', '09430500', '13340600', '12358500', '13337000', '11532500', '11224500']\n"
     ]
    }
   ],
   "source": [
    "long_guage\n",
    "print(len(long_guage),long_guage)"
   ]
  }
 ],
 "metadata": {
  "kernelspec": {
   "display_name": "Python 3",
   "language": "python",
   "name": "python3"
  },
  "language_info": {
   "codemirror_mode": {
    "name": "ipython",
    "version": 3
   },
   "file_extension": ".py",
   "mimetype": "text/x-python",
   "name": "python",
   "nbconvert_exporter": "python",
   "pygments_lexer": "ipython3",
   "version": "3.8.8"
  }
 },
 "nbformat": 4,
 "nbformat_minor": 5
}
