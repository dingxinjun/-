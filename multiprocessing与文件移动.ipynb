{
 "cells": [
  {
   "cell_type": "code",
   "execution_count": 10,
   "id": "7d80f3b8",
   "metadata": {},
   "outputs": [
    {
     "name": "stdout",
     "output_type": "stream",
     "text": [
      "[[], [], [], [], [], []]\n",
      "[[[], [], [], [], [], [], [], [], []], [[], [], [], [], [], [], [], [], []], [[], [], [], [], [], [], [], [], []], [[], [], [], [], [], [], [], [], []], [[], [], [], [], [], [], [], [], []], [[], [], [], [], [], [], [], [], []]]\n"
     ]
    }
   ],
   "source": [
    "process_list=[[] for i in range(5+1)]\n",
    "process_list\n",
    "print(process_list)\n",
    "for i in range(5+1):\n",
    "    for j in range(8+1):\n",
    "        process_list[i].append([])\n",
    "        \n",
    "print(process_list)      "
   ]
  },
  {
   "cell_type": "markdown",
   "id": "69bb24dd",
   "metadata": {},
   "source": [
    "## 将子文件夹下面文件拷贝到主文件夹下面\n"
   ]
  },
  {
   "cell_type": "code",
   "execution_count": 15,
   "id": "3b46b558",
   "metadata": {},
   "outputs": [
    {
     "name": "stdout",
     "output_type": "stream",
     "text": [
      "['region01', 'region02', 'region03', 'region04', 'region05', 'region06', 'region07', 'region08', 'region09', 'region10', 'region11', 'region12', 'region13', 'region14', 'region15', 'region16', 'region17', 'region18']\n",
      "we now enter folder region01\n",
      "we now enter folder region02\n",
      "we now enter folder region03\n",
      "we now enter folder region04\n",
      "we now enter folder region05\n",
      "we now enter folder region06\n",
      "we now enter folder region07\n",
      "we now enter folder region08\n",
      "we now enter folder region09\n",
      "we now enter folder region10\n",
      "we now enter folder region11\n",
      "we now enter folder region12\n",
      "we now enter folder region13\n",
      "we now enter folder region14\n",
      "we now enter folder region15\n",
      "we now enter folder region16\n",
      "we now enter folder region17\n",
      "we now enter folder region18\n"
     ]
    }
   ],
   "source": [
    "import os\n",
    "from os.path import exists\n",
    "import shutil\n",
    "detination_pth=r'C:\\Users\\dingxj\\Desktop\\HCDN\\climate_streamflow\\all_climate_streamflow'\n",
    "file_rootpth=r'C:\\Users\\dingxj\\Desktop\\HCDN\\climate_streamflow\\climate_streamflow2'\n",
    "folders=os.listdir(file_rootpth)\n",
    "print(os.listdir(file_rootpth))\n",
    "for folder in folders:\n",
    "    print('we now enter folder {}'.format(folder))\n",
    "    folder_pth=os.path.join(file_rootpth,folder)\n",
    "    folder_files=os.listdir(folder_pth)\n",
    "    for file in folder_files:\n",
    "        file_pth=os.path.join(folder_pth,file)\n",
    "        #首先判断目的地文件夹里面是否存在源路径下面这个文件\n",
    "        ori_pth=os.path.join(detination_pth,file)\n",
    "        condition=exists(ori_pth)\n",
    "        if condition:\n",
    "            print('folder %s aand file %s is exist'%(folder,file))\n",
    "            pass\n",
    "        else:\n",
    "            shutil.copy(file_pth,detination_pth)\n",
    "            \n",
    "#     print('second')\n",
    "#     print('we now enter folder %s'%(folder))\n",
    "    "
   ]
  },
  {
   "cell_type": "markdown",
   "id": "3b2d1988",
   "metadata": {},
   "source": [
    "## 测试multilprocesing"
   ]
  },
  {
   "cell_type": "markdown",
   "id": "e2f46ca4",
   "metadata": {},
   "source": [
    "#### multiprocessing模块提供了一个Process类来代表一个进程对象\n",
    "from multiprocessing import Process\n",
    "import os\n",
    "\n",
    "\n",
    "\n",
    "##### 子进程要执行的代码\n",
    "def run_proc(name):\n",
    "    print('Run child process %s (%s)...' % (name, os.getpid()))\n",
    "\n",
    "if __name__=='__main__':\n",
    "    print('Parent process %s.' % os.getpid())\n",
    "    p = Process(target=run_proc, args=('test',))\n",
    "    print('Child process will start.')\n",
    "    p.start()\n",
    "    p.join()\n",
    "    print('Child process end.')\n",
    "    \n",
    "#### 如果要启动大量的子进程，可以用进程池的方式批量创建子进程\n",
    "from multiprocessing import Pool\n",
    "\n",
    "from multiprocessing import Pool\n",
    "import os, time, random\n",
    "\n",
    "def long_time_task(name):\n",
    "    print('Run task %s (%s)...' % (name, os.getpid()))\n",
    "    start = time.time()\n",
    "    time.sleep(random.random() * 3)\n",
    "    end = time.time()\n",
    "    print('Task %s runs %0.2f seconds.' % (name, (end - start)))\n",
    "\n",
    "if __name__=='__main__':\n",
    "    print('Parent process %s.' % os.getpid())\n",
    "    p = Pool(4)\n",
    "    for i in range(5):\n",
    "        p.apply_async(long_time_task, args=(i,))\n",
    "    print('Waiting for all subprocesses done...')\n",
    "    #进程关闭\n",
    "    p.close()\n",
    "    #进程join（）\n",
    "    p.join()\n",
    "    print('All subprocesses done.')\n",
    "    \n",
    "#### 对Pool对象调用join()方法会等待所有子进程执行完毕，调用join()之前必须先调用close()，调用close()之后就不能继续添加新的Process了。"
   ]
  },
  {
   "cell_type": "code",
   "execution_count": null,
   "id": "59e5751a",
   "metadata": {},
   "outputs": [],
   "source": [
    "from multiprocessing import Pool\n",
    "import os, time, random\n",
    "\n",
    "def long_time_task(name):\n",
    "    print('Run task %s (%s)...' % (name, os.getpid()))\n",
    "    start = time.time()\n",
    "    time.sleep(3)\n",
    "    end = time.time()\n",
    "    print('Task %s runs %0.2f seconds.' % (name, (end - start)))\n",
    "\n",
    "if __name__=='__main__':\n",
    "    print('Parent process %s.' % os.getpid())\n",
    "    p = Pool(8)\n",
    "    for i in range(8):\n",
    "        p.apply_async(long_time_task, args=(i,))\n",
    "    print('Waiting for all subprocesses done...')\n",
    "    p.close()\n",
    "    p.join()\n",
    "    print('All subprocesses done.')"
   ]
  },
  {
   "cell_type": "markdown",
   "id": "bf1005ce",
   "metadata": {},
   "source": [
    "#### 将长序列切分成短的list\n",
    "###### 数据拆分1首先等间距的采样起始点，然后采样一定长度"
   ]
  },
  {
   "cell_type": "code",
   "execution_count": 3,
   "id": "6252d2b6",
   "metadata": {},
   "outputs": [
    {
     "name": "stdout",
     "output_type": "stream",
     "text": [
      "[range(0, 10), range(10, 20), range(20, 30), range(30, 35)]\n",
      "[range(0, 5), range(10, 15), range(20, 25), range(30, 35)]\n"
     ]
    }
   ],
   "source": [
    "\n",
    "data=range(35)\n",
    "print ([data[x:x+10] for x in range(0, len(data), 10)])\n",
    "print([data[x:x+5] for x in range(0, len(data), 10)])"
   ]
  },
  {
   "cell_type": "markdown",
   "id": "3d0aed98",
   "metadata": {},
   "source": [
    "#### 利用numpy将列表拆分\n",
    "##### 使用numpy.array_split(data,pieces)"
   ]
  },
  {
   "cell_type": "code",
   "execution_count": 8,
   "id": "7dc3bbc1",
   "metadata": {},
   "outputs": [
    {
     "name": "stdout",
     "output_type": "stream",
     "text": [
      "[array([0, 1, 2, 3, 4, 5, 6, 7, 8]), array([ 9, 10, 11, 12, 13, 14, 15, 16, 17]), array([18, 19, 20, 21, 22, 23, 24, 25, 26]), array([27, 28, 29, 30, 31, 32, 33, 34])]\n",
      "lenth of each pieces is 9\n",
      "lenth of each pieces is 9\n",
      "lenth of each pieces is 9\n",
      "lenth of each pieces is 8\n",
      "\n",
      "\n",
      "lenth of each pieces is 6\n",
      "lenth of each pieces is 6\n",
      "lenth of each pieces is 6\n",
      "lenth of each pieces is 6\n",
      "lenth of each pieces is 6\n",
      "lenth of each pieces is 5\n",
      "\n",
      "\n",
      "[array([0, 1, 2, 3, 4, 5]), array([ 6,  7,  8,  9, 10, 11]), array([12, 13, 14, 15, 16, 17]), array([18, 19, 20, 21, 22, 23]), array([24, 25, 26, 27, 28, 29]), array([30, 31, 32, 33, 34])]\n"
     ]
    }
   ],
   "source": [
    "import numpy as np\n",
    "new_arrays = np.array_split(data, 4)\n",
    "print(new_arrays)\n",
    "for i in new_arrays:\n",
    "    print('lenth of each pieces is',len(i))\n",
    "print('\\n')\n",
    "new_arrays = np.array_split(data, 6)\n",
    "for i in new_arrays:\n",
    "    print('lenth of each pieces is',len(i))\n",
    "print('\\n')\n",
    "print(new_arrays)"
   ]
  },
  {
   "cell_type": "markdown",
   "id": "2d2a70c2",
   "metadata": {},
   "source": [
    "竖向拼接dataframe concat"
   ]
  },
  {
   "cell_type": "code",
   "execution_count": 9,
   "id": "d444be73",
   "metadata": {},
   "outputs": [
    {
     "data": {
      "text/html": [
       "<div>\n",
       "<style scoped>\n",
       "    .dataframe tbody tr th:only-of-type {\n",
       "        vertical-align: middle;\n",
       "    }\n",
       "\n",
       "    .dataframe tbody tr th {\n",
       "        vertical-align: top;\n",
       "    }\n",
       "\n",
       "    .dataframe thead th {\n",
       "        text-align: right;\n",
       "    }\n",
       "</style>\n",
       "<table border=\"1\" class=\"dataframe\">\n",
       "  <thead>\n",
       "    <tr style=\"text-align: right;\">\n",
       "      <th></th>\n",
       "      <th>letter</th>\n",
       "      <th>number</th>\n",
       "    </tr>\n",
       "  </thead>\n",
       "  <tbody>\n",
       "    <tr>\n",
       "      <th>0</th>\n",
       "      <td>a</td>\n",
       "      <td>1</td>\n",
       "    </tr>\n",
       "    <tr>\n",
       "      <th>1</th>\n",
       "      <td>b</td>\n",
       "      <td>2</td>\n",
       "    </tr>\n",
       "    <tr>\n",
       "      <th>0</th>\n",
       "      <td>c</td>\n",
       "      <td>1</td>\n",
       "    </tr>\n",
       "    <tr>\n",
       "      <th>1</th>\n",
       "      <td>d</td>\n",
       "      <td>2</td>\n",
       "    </tr>\n",
       "  </tbody>\n",
       "</table>\n",
       "</div>"
      ],
      "text/plain": [
       "  letter  number\n",
       "0      a       1\n",
       "1      b       2\n",
       "0      c       1\n",
       "1      d       2"
      ]
     },
     "execution_count": 9,
     "metadata": {},
     "output_type": "execute_result"
    }
   ],
   "source": [
    "import pandas as pd\n",
    "df1=pd.DataFrame([['a', 1], ['b', 2]],\n",
    "                   columns=['letter', 'number'])\n",
    "df2=pd.DataFrame([['c', 1], ['d', 2]],\n",
    "                   columns=['letter', 'number'])\n",
    "df3=pd.concat([df1,df2])\n",
    "df3\n",
    "            "
   ]
  },
  {
   "cell_type": "code",
   "execution_count": 11,
   "id": "87b2459a",
   "metadata": {
    "scrolled": true
   },
   "outputs": [
    {
     "name": "stdout",
     "output_type": "stream",
     "text": [
      "  letter  number\n",
      "0      a       1\n",
      "0      c       1\n",
      "1      b       2\n",
      "1      d       2\n"
     ]
    },
    {
     "data": {
      "text/html": [
       "<div>\n",
       "<style scoped>\n",
       "    .dataframe tbody tr th:only-of-type {\n",
       "        vertical-align: middle;\n",
       "    }\n",
       "\n",
       "    .dataframe tbody tr th {\n",
       "        vertical-align: top;\n",
       "    }\n",
       "\n",
       "    .dataframe thead th {\n",
       "        text-align: right;\n",
       "    }\n",
       "</style>\n",
       "<table border=\"1\" class=\"dataframe\">\n",
       "  <thead>\n",
       "    <tr style=\"text-align: right;\">\n",
       "      <th></th>\n",
       "      <th>letter</th>\n",
       "      <th>number</th>\n",
       "    </tr>\n",
       "    <tr>\n",
       "      <th>letter</th>\n",
       "      <th></th>\n",
       "      <th></th>\n",
       "    </tr>\n",
       "  </thead>\n",
       "  <tbody>\n",
       "    <tr>\n",
       "      <th>a</th>\n",
       "      <td>a</td>\n",
       "      <td>1</td>\n",
       "    </tr>\n",
       "    <tr>\n",
       "      <th>b</th>\n",
       "      <td>b</td>\n",
       "      <td>2</td>\n",
       "    </tr>\n",
       "    <tr>\n",
       "      <th>c</th>\n",
       "      <td>c</td>\n",
       "      <td>1</td>\n",
       "    </tr>\n",
       "    <tr>\n",
       "      <th>d</th>\n",
       "      <td>d</td>\n",
       "      <td>2</td>\n",
       "    </tr>\n",
       "  </tbody>\n",
       "</table>\n",
       "</div>"
      ],
      "text/plain": [
       "       letter  number\n",
       "letter               \n",
       "a           a       1\n",
       "b           b       2\n",
       "c           c       1\n",
       "d           d       2"
      ]
     },
     "execution_count": 11,
     "metadata": {},
     "output_type": "execute_result"
    }
   ],
   "source": [
    "df4=df3.sort_index(axis = 0)\n",
    "print(df4)\n",
    "df5=df3.copy()\n",
    "df5.index=df5['letter']\n",
    "df5"
   ]
  },
  {
   "cell_type": "markdown",
   "id": "1091bff2",
   "metadata": {},
   "source": [
    "#### 多进程测试"
   ]
  },
  {
   "cell_type": "code",
   "execution_count": null,
   "id": "7503be78",
   "metadata": {},
   "outputs": [],
   "source": [
    "from multiprocessing import Pool\n",
    "\n",
    "def f(x):\n",
    "    return x*x\n",
    "\n",
    "if __name__ == '__main__':\n",
    "    with Pool(5) as p:\n",
    "        print(p.map(f, [1, 2, 3]))"
   ]
  }
 ],
 "metadata": {
  "kernelspec": {
   "display_name": "hydrogr",
   "language": "python",
   "name": "hydrogr"
  },
  "language_info": {
   "codemirror_mode": {
    "name": "ipython",
    "version": 3
   },
   "file_extension": ".py",
   "mimetype": "text/x-python",
   "name": "python",
   "nbconvert_exporter": "python",
   "pygments_lexer": "ipython3",
   "version": "3.10.4"
  }
 },
 "nbformat": 4,
 "nbformat_minor": 5
}
