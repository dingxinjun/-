{
 "cells": [
  {
   "cell_type": "code",
   "execution_count": 25,
   "id": "5ab2a7f8",
   "metadata": {},
   "outputs": [
    {
     "name": "stderr",
     "output_type": "stream",
     "text": [
      "<ipython-input-25-6661e0e0b17c>:38: UserWarning: Matplotlib is currently using module://ipykernel.pylab.backend_inline, which is a non-GUI backend, so cannot show the figure.\n",
      "  fig.show()\n"
     ]
    },
    {
     "data": {
      "image/png": "[encoded data removed]",
      "text/plain": [
       "<Figure size 432x72 with 1 Axes>"
      ]
     },
     "metadata": {
      "needs_background": "light"
     },
     "output_type": "display_data"
    }
   ],
   "source": [
    "color_list=[(0.95,0.97,0.95),(0.0,0.88,0.97),(0,0.65,0),\n",
    "           (0.88,0.98,0.01),(0.88,0.79,0.03),(0.6,0.47,0),\n",
    "           (0.64,0.13,0),(0.74,0,0.01),(0.98,0,0.59),\n",
    "           (0.76,0.19,0.98)]\n",
    "import matplotlib.pyplot as plt\n",
    "import matplotlib as mpl\n",
    "fig, ax = plt.subplots(figsize=(6, 1))\n",
    "fig.subplots_adjust(bottom=0.5)\n",
    "cmap = mpl.colors.ListedColormap(colo_list[1:-1])\n",
    "cmap.set_over(colo_list[-1])\n",
    "cmap.set_under(colo_list[0])\n",
    "\n",
    "bounds = [0.1, 0.2, 0.3, 0.4, 0.5,0.6,0.7,0.8,0.9]\n",
    "\n",
    "norm = mpl.colors.BoundaryNorm(bounds, cmap.N,)\n",
    "fig.colorbar(\n",
    "    mpl.cm.ScalarMappable(cmap=cmap, norm=norm),\n",
    "    cax=ax,\n",
    "    boundaries=[-15] + bounds + [15],\n",
    "    extend='both',\n",
    "    extendfrac='auto',\n",
    "    ticks=bounds,\n",
    "    spacing='uniform',\n",
    "    orientation='horizontal',\n",
    "    shrink=0.2\n",
    "\n",
    ")\n",
    "\n",
    "# cb3 = mpl.colorbar.ColorbarBase(ax, cmap=cmap,\n",
    "#                                 norm=norm,\n",
    "#                                 boundaries=[-10] + bounds + [10],\n",
    "#                                 extend='both',\n",
    "#                                 extendfrac='auto',\n",
    "#                                 ticks=bounds,\n",
    "#                                 spacing='uniform',\n",
    "#                                 orientation='horizontal')\n",
    "# cb3.set_label('Custom extension lengths, some other units')\n",
    "fig.show()\n"
   ]
  },
  {
   "cell_type": "code",
   "execution_count": 26,
   "id": "907832f1",
   "metadata": {},
   "outputs": [
    {
     "data": {
      "text/plain": [
       "(0.6, 0.6, 0.6)"
      ]
     },
     "execution_count": 26,
     "metadata": {},
     "output_type": "execute_result"
    }
   ],
   "source": [
    "def color(x,y,z):\n",
    "    a,b,c=x/255,y/255,z/255\n",
    "    return (a,b,c)\n",
    "color(153,153,153)"
   ]
  },
  {
   "cell_type": "code",
   "execution_count": 13,
   "id": "3fd03a50",
   "metadata": {},
   "outputs": [
    {
     "data": {
      "text/plain": [
       "[(0.9568627450980393, 0.9764705882352941, 0.9529411764705882),\n",
       " (0.00392156862745098, 0.8862745098039215, 0.9725490196078431),\n",
       " (0.0, 0.6588235294117647, 0.0),\n",
       " (0.8823529411764706, 0.9803921568627451, 0.01568627450980392),\n",
       " (0.8823529411764706, 0.792156862745098, 0.03529411764705882),\n",
       " (0.6039215686274509, 0.47843137254901963, 0.0),\n",
       " (0.6470588235294118, 0.12941176470588237, 0.00784313725490196),\n",
       " (0.7411764705882353, 0.0, 0.01568627450980392),\n",
       " (0.9882352941176471, 0.00784313725490196, 0.592156862745098),\n",
       " (0.7607843137254902, 0.19215686274509805, 0.9803921568627451)]"
      ]
     },
     "execution_count": 13,
     "metadata": {},
     "output_type": "execute_result"
    }
   ],
   "source": [
    "def color(x,y,z):\n",
    "    a,b,c=round(x/255, 2),round(y/255, 2),round(z/255, 2)\n",
    "    return (a,b,c)\n",
    "color_lis=[(244,249,243),(1,226,248),(0,168,0),(225,250,4),(225,202,9),(154,122,0),(165,33,2),(189,0,4),(252,2,151),(194,49,250)]\n",
    "colo_list=[]\n",
    "for i in color_lis:\n",
    "    x=i[0]\n",
    "    y=i[1]\n",
    "    z=i[2]\n",
    "    tup=color(x,y,z)\n",
    "    colo_list.append(tup)\n",
    "colo_list"
   ]
  },
  {
   "cell_type": "code",
   "execution_count": 4,
   "id": "357996c1",
   "metadata": {},
   "outputs": [
    {
     "name": "stderr",
     "output_type": "stream",
     "text": [
      "<ipython-input-4-1ff4850b8df8>:24: UserWarning: Matplotlib is currently using module://ipykernel.pylab.backend_inline, which is a non-GUI backend, so cannot show the figure.\n",
      "  fig.show()\n"
     ]
    },
    {
     "data": {
      "image/png": "[encoded data removed]",
      "text/plain": [
       "<Figure size 432x72 with 1 Axes>"
      ]
     },
     "metadata": {
      "needs_background": "light"
     },
     "output_type": "display_data"
    }
   ],
   "source": [
    "import matplotlib.pyplot as plt\n",
    "import matplotlib as mpl\n",
    "fig, ax = plt.subplots(figsize=(6, 1))\n",
    "fig.subplots_adjust(bottom=0.5)\n",
    "\n",
    "\n",
    "cmap = mpl.colors.ListedColormap(['royalblue', 'cyan',\n",
    "                                  'yellow', 'orange'])\n",
    "cmap = mpl.colors.ListedColormap(['royalblue', 'cyan',\n",
    "                                  'yellow', 'orange'])\n",
    "cmap.set_over('red')\n",
    "# cmap.set_under('blue')\n",
    "cmap.set_under((0,0.6,0.1))\n",
    "bounds = [-1.0, -0.5, 0.0, 0.5, 1.0]\n",
    "norm = mpl.colors.BoundaryNorm(bounds, cmap.N)\n",
    "cb3 = mpl.colorbar.ColorbarBase(ax, cmap=cmap,\n",
    "                                norm=norm,\n",
    "                                boundaries=[-10] + bounds + [10],\n",
    "                                extend='both',\n",
    "                                extendfrac='auto',\n",
    "                                ticks=bounds,\n",
    "                                spacing='uniform',\n",
    "                                orientation='horizontal')\n",
    "cb3.set_label('Custom extension lengths, some other units')\n",
    "fig.show()"
   ]
  },
  {
   "cell_type": "code",
   "execution_count": 51,
   "id": "83ba83c6",
   "metadata": {},
   "outputs": [
    {
     "name": "stderr",
     "output_type": "stream",
     "text": [
      "<ipython-input-51-924ee75cddea>:34: UserWarning: Matplotlib is currently using module://ipykernel.pylab.backend_inline, which is a non-GUI backend, so cannot show the figure.\n",
      "  fig.show()\n"
     ]
    },
    {
     "data": {
      "image/png": "[encoded data removed]",
      "text/plain": [
       "<Figure size 432x72 with 1 Axes>"
      ]
     },
     "metadata": {
      "needs_background": "light"
     },
     "output_type": "display_data"
    }
   ],
   "source": [
    "import matplotlib.pyplot as plt\n",
    "import matplotlib as mpl\n",
    "fig, ax = plt.subplots(figsize=(6, 1))\n",
    "fig.subplots_adjust(bottom=0.5)\n",
    "def color(x,y,z):\n",
    "    a,b,c=x/255,y/255,z/255\n",
    "    return (a,b,c)\n",
    "color_lis=[(244,249,243),(1,226,248),(0,168,0),(225,250,4),(225,202,9),(154,122,0),(165,33,2),(189,0,4),(252,2,151),(194,49,250)]\n",
    "colo_list=[]\n",
    "\n",
    "for i in color_lis:\n",
    "    x=i[0]\n",
    "    y=i[1]\n",
    "    z=i[2]\n",
    "    tup=color(x,y,z)\n",
    "    colo_list.append(tup)\n",
    "\n",
    "cmap = mpl.colors.ListedColormap(colo_list[1:-1])\n",
    "cmap.set_over(colo_list[-1])\n",
    "cmap.set_under(colo_list[0])\n",
    "\n",
    "bounds = [0.1, 0.2, 0.3, 0.4, 0.5,0.6,0.7,0.8,0.9]\n",
    "\n",
    "norm = mpl.colors.BoundaryNorm(bounds, cmap.N)\n",
    "cb3 = mpl.colorbar.ColorbarBase(ax, cmap=cmap,\n",
    "                                norm=norm,\n",
    "                                boundaries=[-10] + bounds + [10],\n",
    "#                                 extend='both',\n",
    "                                extendfrac='auto',\n",
    "                                ticks=bounds,\n",
    "                                spacing='uniform',\n",
    "                                orientation='horizontal')\n",
    "cb3.set_label('Custom extension lengths, some other units')\n",
    "fig.show()"
   ]
  },
  {
   "cell_type": "code",
   "execution_count": 8,
   "id": "98f99455",
   "metadata": {},
   "outputs": [
    {
     "name": "stderr",
     "output_type": "stream",
     "text": [
      "<ipython-input-8-7cf991f7002b>:36: UserWarning: Matplotlib is currently using module://ipykernel.pylab.backend_inline, which is a non-GUI backend, so cannot show the figure.\n",
      "  fig.show()\n"
     ]
    },
    {
     "data": {
      "text/plain": [
       "[(0.03137254901960784, 0.8862745098039215, 0.9921568627450981),\n",
       " (0.01568627450980392, 0.6627450980392157, 0.7176470588235294),\n",
       " (0.00392156862745098, 0.7215686274509804, 0.00392156862745098),\n",
       " (0.11372549019607843, 0.9803921568627451, 0.17254901960784313),\n",
       " (0.9803921568627451, 0.9803921568627451, 0.9803921568627451),\n",
       " (0.6078431372549019, 0.47843137254901963, 0.0),\n",
       " (0.6941176470588235, 0.12941176470588237, 0.0),\n",
       " (0.7764705882352941, 0.0, 0.023529411764705882),\n",
       " (0.9882352941176471, 0.0, 0.6431372549019608)]"
      ]
     },
     "execution_count": 8,
     "metadata": {},
     "output_type": "execute_result"
    },
    {
     "data": {
      "image/png": "[encoded data removed]",
      "text/plain": [
       "<Figure size 432x72 with 1 Axes>"
      ]
     },
     "metadata": {
      "needs_background": "light"
     },
     "output_type": "display_data"
    }
   ],
   "source": [
    "import matplotlib.pyplot as plt\n",
    "import matplotlib as mpl\n",
    "fig, ax = plt.subplots(figsize=(6, 1))\n",
    "fig.subplots_adjust(bottom=0.5)\n",
    "def color(x,y,z):\n",
    "    a,b,c=x/255,y/255,z/255\n",
    "    return (a,b,c)\n",
    "# color_lis=[(244,249,243),(1,226,248),(0,168,0),(225,250,4),(225,202,9),(154,122,0),(165,33,2),(189,0,4),(252,2,151),(194,49,250)]\n",
    "color_lis=[(8,226,253),(4,169,183),(1,184,1),(29,250,44),(250,250,250),(155,122,0),\n",
    "           (177,33,0),(198,0,6),(252,0,164)]\n",
    "colo_list=[]\n",
    "\n",
    "for i in color_lis:\n",
    "    x=i[0]\n",
    "    y=i[1]\n",
    "    z=i[2]\n",
    "    tup=color(x,y,z)\n",
    "    colo_list.append(tup)\n",
    "\n",
    "cmap = mpl.colors.ListedColormap(colo_list[1:-1])\n",
    "cmap.set_over(colo_list[-1])\n",
    "cmap.set_under(colo_list[0])\n",
    "\n",
    "# bounds = [0.1, 0.2, 0.3, 0.4, 0.5,0.6,0.7,0.8,0.9]\n",
    "bounds = [-2,-1,-0.5,-0.2,0.2,0.5,1,2]\n",
    "norm = mpl.colors.BoundaryNorm(bounds, cmap.N)\n",
    "cb3 = mpl.colorbar.ColorbarBase(ax, cmap=cmap,\n",
    "                                norm=norm,\n",
    "                                boundaries=[-10] + bounds + [10],\n",
    "#                                 extend='both',\n",
    "                                extendfrac='auto',\n",
    "                                ticks=bounds,\n",
    "                                spacing='uniform',\n",
    "                                orientation='horizontal')\n",
    "cb3.set_label('Custom extension lengths, some other units')\n",
    "fig.show()\n",
    "colo_list"
   ]
  },
  {
   "cell_type": "code",
   "execution_count": 57,
   "id": "f9441e58",
   "metadata": {},
   "outputs": [
    {
     "data": {
      "text/plain": [
       "[[(0.55, 0.32, 0.04),\n",
       "  (0.85, 0.7, 0.4),\n",
       "  (0.96, 0.91, 0.76),\n",
       "  (0.78, 0.92, 0.9),\n",
       "  (0.35, 0.71, 0.67),\n",
       "  (0.0, 0.4, 0.37)],\n",
       " [(0.55, 0.32, 0.04),\n",
       "  (0.85, 0.7, 0.4),\n",
       "  (0.96, 0.91, 0.76),\n",
       "  (0.78, 0.92, 0.9),\n",
       "  (0.35, 0.71, 0.67),\n",
       "  (0.0, 0.4, 0.37)],\n",
       " [(0.7, 0.09, 0.17),\n",
       "  (0.94, 0.54, 0.38),\n",
       "  (0.99, 0.86, 0.78),\n",
       "  (0.82, 0.9, 0.94),\n",
       "  (0.4, 0.66, 0.81),\n",
       "  (0.13, 0.4, 0.67)],\n",
       " [(0.3, 0.57, 0.13),\n",
       "  (0.63, 0.84, 0.42),\n",
       "  (0.9, 0.96, 0.82),\n",
       "  (0.99, 0.88, 0.94),\n",
       "  (0.91, 0.64, 0.79),\n",
       "  (0.77, 0.11, 0.49)],\n",
       " [(0.33, 0.15, 0.53),\n",
       "  (0.6, 0.56, 0.76),\n",
       "  (0.85, 0.85, 0.92),\n",
       "  (1.0, 0.88, 0.71),\n",
       "  (0.95, 0.64, 0.25),\n",
       "  (0.7, 0.34, 0.02)],\n",
       " [(0.13, 0.4, 0.67),\n",
       "  (0.4, 0.66, 0.81),\n",
       "  (0.82, 0.9, 0.94),\n",
       "  (0.99, 0.86, 0.78),\n",
       "  (0.94, 0.54, 0.38),\n",
       "  (0.7, 0.09, 0.17)],\n",
       " [(1.0, 1.0, 0.8),\n",
       "  (0.78, 0.91, 0.71),\n",
       "  (0.5, 0.8, 0.73),\n",
       "  (0.25, 0.71, 0.77),\n",
       "  (0.17, 0.5, 0.72),\n",
       "  (0.15, 0.2, 0.58)],\n",
       " [(0.94, 0.95, 1.0),\n",
       "  (0.74, 0.84, 0.91),\n",
       "  (0.42, 0.68, 0.84),\n",
       "  (0.19, 0.51, 0.74),\n",
       "  (0.03, 0.32, 0.61)],\n",
       " [(0.94, 0.95, 1.0),\n",
       "  (0.78, 0.86, 0.94),\n",
       "  (0.62, 0.79, 0.88),\n",
       "  (0.42, 0.68, 0.84),\n",
       "  (0.19, 0.51, 0.74),\n",
       "  (0.03, 0.32, 0.61)],\n",
       " [(1.0, 1.0, 0.83),\n",
       "  (1.0, 0.11, 0.57),\n",
       "  (1.0, 0.77, 0.31),\n",
       "  (1.0, 0.6, 0.16),\n",
       "  (0.85, 0.37, 0.05),\n",
       "  (0.6, 0.2, 0.02)],\n",
       " [(1.0, 0.93, 0.87),\n",
       "  (0.99, 0.75, 0.52),\n",
       "  (0.99, 0.55, 0.24),\n",
       "  (0.9, 0.33, 0.05),\n",
       "  (0.65, 0.21, 0.01)],\n",
       " [(0.65, 0.21, 0.01),\n",
       "  (0.9, 0.33, 0.05),\n",
       "  (0.99, 0.55, 0.24),\n",
       "  (0.99, 0.75, 0.52),\n",
       "  (1.0, 0.93, 0.87)]]"
      ]
     },
     "execution_count": 57,
     "metadata": {},
     "output_type": "execute_result"
    }
   ],
   "source": [
    "a=[(140,81,10),(216,179,101),(246,232,195),(199,234,229),(90,180,172),(1,101,94)]\n",
    "b=a\n",
    "c=[(178,24,43),(239,138,98),(253,219,199),(209,229,240),(103,169,207),(33,102,172)]\n",
    "f=c[::-1]\n",
    "d=[(76,146,33),(161,215,106),(230,245,208),(253,224,239),(233,163,201),(197,27,125)]\n",
    "e=[(84,39,136),(153,142,195),(216,218,235),(254,224,182),(241,163,64),(179,86,6)]\n",
    "g=[(255,255,204),(199,233,180),(127,205,187),(65,182,196),(44,127,184),(37,52,148)]\n",
    "h=[(239,243,255),(189,215,231),(107,174,214),(49,130,189),(8,81,156)]\n",
    "i=[(239,243,255),(198,219,239),(158,202,225),(107,174,214),(49,130,189),(8,81,156)]\n",
    "j=[(255,255,212),(254,27,145),(254,196,79),(254,153,41),(217,95,14),(153,52,4)]\n",
    "k=[(254,237,222),(253,190,133),(253,141,60),(230,85,13),(166,54,3)]\n",
    "l=k[::-1]\n",
    "colors=[a,b,c,d,e,f,g,h,i,j,k,l]\n",
    "colo_list=[]\n",
    "def color_cal(x,y,z):\n",
    "    a,b,c=x/255,y/255, z/255\n",
    "    return (round(a,2),round(b,2),round(c,2))\n",
    "#进入获得第几个color list\n",
    "for j in colors:\n",
    "#     print(j)\n",
    "    color=[]\n",
    "    for i in j:\n",
    "#         print(i)\n",
    "        x=i[0]\n",
    "        y=i[1]\n",
    "        z=i[2]\n",
    "        tup=color_cal(x,y,z)\n",
    "        color.append(tup)\n",
    "        \n",
    "    colo_list.append(color)\n",
    "colo_list"
   ]
  },
  {
   "cell_type": "code",
   "execution_count": 62,
   "id": "ce2031a6",
   "metadata": {},
   "outputs": [
    {
     "data": {
      "text/plain": [
       "[(0.55, 0.32, 0.04),\n",
       " (0.85, 0.7, 0.4),\n",
       " (0.96, 0.91, 0.76),\n",
       " (0.78, 0.92, 0.9),\n",
       " (0.35, 0.71, 0.67),\n",
       " (0.0, 0.4, 0.37)]"
      ]
     },
     "execution_count": 62,
     "metadata": {},
     "output_type": "execute_result"
    }
   ],
   "source": [
    "colo_lists=[[(0.55, 0.32, 0.04),(0.85, 0.7, 0.4), (0.96, 0.91, 0.76),(0.78, 0.92, 0.9),\n",
    "  (0.35, 0.71, 0.67),(0.0, 0.4, 0.37)],\n",
    " [(0.55, 0.32, 0.04),(0.85, 0.7, 0.4), (0.96, 0.91, 0.76),(0.78, 0.92, 0.9),\n",
    "  (0.35, 0.71, 0.67), (0.0, 0.4, 0.37)],\n",
    "  [(0.7, 0.09, 0.17),(0.94, 0.54, 0.38), (0.99, 0.86, 0.78),(0.82, 0.9, 0.94),\n",
    "  (0.4, 0.66, 0.81), (0.13, 0.4, 0.67)],#\n",
    "  [(0.3, 0.57, 0.13),(0.63, 0.84, 0.42),(0.9, 0.96, 0.82), (0.99, 0.88, 0.94),\n",
    "  (0.91, 0.64, 0.79),(0.77, 0.11, 0.49)],\n",
    " [(0.33, 0.15, 0.53),(0.6, 0.56, 0.76),(0.85, 0.85, 0.92), (1.0, 0.88, 0.71),\n",
    "  (0.95, 0.64, 0.25), (0.7, 0.34, 0.02)],\n",
    " [(0.13, 0.4, 0.67), (0.4, 0.66, 0.81),(0.82, 0.9, 0.94),(0.99, 0.86, 0.78),\n",
    " (0.94, 0.54, 0.38),(0.7, 0.09, 0.17)],  #\n",
    " [(1.0, 1.0, 0.8),(0.78, 0.91, 0.71),(0.5, 0.8, 0.73),(0.25, 0.71, 0.77),\n",
    "  (0.17, 0.5, 0.72),(0.15, 0.2, 0.58)],\n",
    "  [(0.94, 0.95, 1.0),(0.74, 0.84, 0.91),(0.42, 0.68, 0.84),(0.19, 0.51, 0.74),\n",
    "  (0.03, 0.32, 0.61)],\n",
    "  [(0.94, 0.95, 1.0),(0.78, 0.86, 0.94),(0.62, 0.79, 0.88),(0.42, 0.68, 0.84),\n",
    "(0.19, 0.51, 0.74), (0.03, 0.32, 0.61)],\n",
    "  [(1.0, 1.0, 0.83),(1.0, 0.11, 0.57),  (1.0, 0.77, 0.31),(1.0, 0.6, 0.16),\n",
    "  (0.85, 0.37, 0.05), (0.6, 0.2, 0.02)],\n",
    " [(1.0, 0.93, 0.87), (0.99, 0.75, 0.52),(0.99, 0.55, 0.24),(0.9, 0.33, 0.05),(0.65, 0.21, 0.01)], \n",
    " [(0.65, 0.21, 0.01),(0.9, 0.33, 0.05), (0.99, 0.55, 0.24),(0.99, 0.75, 0.52),\n",
    "   (1.0, 0.93, 0.87)]] \n"
   ]
  },
  {
   "cell_type": "code",
   "execution_count": 68,
   "id": "b949f8b7",
   "metadata": {},
   "outputs": [],
   "source": [
    "all_bounds=[[0.3,0.8,1,1.5,2],[0.2,0.3,0.4,0.5,0.6],[155,163,174,197,224],[2,2.5,3,4,5],\n",
    "        [0.3,0.4,0.5,0.6,0.7],[1,1.5,2,2.5,3],[4,8,15,30,50],[2,5,10,15],\n",
    "        [1,3,4,5,8],[15,50,100,150,200],[10,13,20,40],[0.04,0.1,0.2,0.4]]"
   ]
  },
  {
   "cell_type": "code",
   "execution_count": 82,
   "id": "af3ff7a7",
   "metadata": {},
   "outputs": [
    {
     "name": "stderr",
     "output_type": "stream",
     "text": [
      "<ipython-input-82-8386ca285011>:24: UserWarning: Matplotlib is currently using module://ipykernel.pylab.backend_inline, which is a non-GUI backend, so cannot show the figure.\n",
      "  fig.show()\n"
     ]
    },
    {
     "data": {
      "image/png": "[encoded data removed]",
      "text/plain": [
       "<Figure size 432x72 with 1 Axes>"
      ]
     },
     "metadata": {
      "needs_background": "light"
     },
     "output_type": "display_data"
    }
   ],
   "source": [
    "import matplotlib.pyplot as plt\n",
    "import matplotlib as mpl\n",
    "fig, ax = plt.subplots(figsize=(6, 1))\n",
    "fig.subplots_adjust(bottom=0.5)\n",
    "i=0\n",
    "colo_list=colo_lists[i]\n",
    "bounds=all_bounds[i]\n",
    "cmap = mpl.colors.ListedColormap(colo_list[1:-1])\n",
    "cmap.set_over(colo_list[-1])\n",
    "cmap.set_under(colo_list[0])\n",
    "\n",
    "# bounds = [0.1, 0.2, 0.3, 0.4, 0.5,0.6,0.7,0.8,0.9]\n",
    "\n",
    "norm = mpl.colors.BoundaryNorm(bounds, cmap.N)\n",
    "cb3 = mpl.colorbar.ColorbarBase(ax, cmap=cmap,\n",
    "                                norm=norm,\n",
    "                                boundaries=[-10] + bounds + [10],\n",
    "#                                 extend='both',\n",
    "                                extendfrac='auto',\n",
    "                                ticks=bounds,\n",
    "                                spacing='uniform',\n",
    "                                orientation='horizontal')\n",
    "cb3.set_label('Custom extension lengths, some other units')\n",
    "fig.show()"
   ]
  },
  {
   "cell_type": "code",
   "execution_count": 72,
   "id": "3f60321d",
   "metadata": {},
   "outputs": [
    {
     "name": "stderr",
     "output_type": "stream",
     "text": [
      "<ipython-input-72-4538fb1cc2b1>:11: UserWarning: Matplotlib is currently using module://ipykernel.pylab.backend_inline, which is a non-GUI backend, so cannot show the figure.\n",
      "  fig.show()\n"
     ]
    },
    {
     "data": {
      "image/png": "[encoded data removed]",
      "text/plain": [
       "<Figure size 432x72 with 1 Axes>"
      ]
     },
     "metadata": {
      "needs_background": "light"
     },
     "output_type": "display_data"
    }
   ],
   "source": [
    "fig, ax = plt.subplots(figsize=(6, 1))\n",
    "fig.subplots_adjust(bottom=0.5)\n",
    "\n",
    "cmap = mpl.cm.viridis\n",
    "bounds = [-1, 2, 5, 7, 12, 15]\n",
    "norm = mpl.colors.BoundaryNorm(bounds, cmap.N, extend='both')\n",
    "cb2 = mpl.colorbar.ColorbarBase(ax, cmap=cmap,\n",
    "                                norm=norm,\n",
    "                                orientation='horizontal')\n",
    "cb2.set_label(\"Discrete intervals with extend='both' keyword\")\n",
    "fig.show()"
   ]
  },
  {
   "cell_type": "code",
   "execution_count": 89,
   "id": "88376a94",
   "metadata": {},
   "outputs": [
    {
     "name": "stderr",
     "output_type": "stream",
     "text": [
      "<ipython-input-89-a0bda7f28e26>:18: UserWarning: Matplotlib is currently using module://ipykernel.pylab.backend_inline, which is a non-GUI backend, so cannot show the figure.\n",
      "  fig.show()\n"
     ]
    },
    {
     "data": {
      "image/png": "[encoded data removed]",
      "text/plain": [
       "<Figure size 432x72 with 1 Axes>"
      ]
     },
     "metadata": {
      "needs_background": "light"
     },
     "output_type": "display_data"
    }
   ],
   "source": [
    "fig, ax = plt.subplots(figsize=(6, 1))\n",
    "fig.subplots_adjust(bottom=0.5)\n",
    "\n",
    "color_list=[(0.55, 0.32, 0.04),(0.85, 0.7, 0.4),(0.96, 0.91, 0.76),\n",
    "(0.78, 0.92, 0.9),(0.35, 0.71, 0.67),(0.0, 0.4, 0.37)]\n",
    "newcmp = mpl.colors.ListedColormap(color_list[1:-1])\n",
    "newcmp.set_over(color_list[-1])\n",
    "newcmp.set_under(color_list[0])\n",
    "bounds = [0.3,0.8,1,1.5,2]\n",
    "norm = mpl.colors.BoundaryNorm(bounds, newcmp .N, )\n",
    "cb2 = mpl.colorbar.ColorbarBase(ax, cmap=newcmp ,\n",
    "                                boundaries=[-10] + bounds + [10],\n",
    "                                extendfrac='auto',\n",
    "                                ticks=bounds,\n",
    "                                norm=norm,\n",
    "                                orientation='horizontal')\n",
    "cb2.set_label(\"Discrete intervals with extend='both' keyword\")\n",
    "fig.show()"
   ]
  },
  {
   "cell_type": "code",
   "execution_count": 93,
   "id": "b99cf3d9",
   "metadata": {},
   "outputs": [
    {
     "data": {
      "text/plain": [
       "<matplotlib.colorbar.Colorbar at 0x26856fbacd0>"
      ]
     },
     "execution_count": 93,
     "metadata": {},
     "output_type": "execute_result"
    },
    {
     "data": {
      "image/png": "[encoded data removed]",
      "text/plain": [
       "<Figure size 432x72 with 1 Axes>"
      ]
     },
     "metadata": {
      "needs_background": "light"
     },
     "output_type": "display_data"
    }
   ],
   "source": [
    "fig, ax = plt.subplots(figsize=(6, 1))\n",
    "fig.subplots_adjust(bottom=0.5)\n",
    "\n",
    "color_list=[(0.55, 0.32, 0.04),(0.85, 0.7, 0.4),(0.96, 0.91, 0.76),(0.78, 0.92, 0.9),(0.35, 0.71, 0.67),(0.0, 0.4, 0.37)]\n",
    "\n",
    "newcmp = mpl.colors.ListedColormap(color_list[1:-1])\n",
    "newcmp.set_over(color_list[-1])\n",
    "newcmp.set_under(color_list[0])\n",
    "bounds = [0.3,0.8,1,1.5,2]\n",
    "norm = mpl.colors.BoundaryNorm(bounds, newcmp.N,)\n",
    "\n",
    "# cmap = mpl.colors.ListedColormap(['red', 'green', 'blue', 'cyan'])\n",
    "# cmap.set_over('0.25')\n",
    "# cmap.set_under('0.75')\n",
    "\n",
    "# bounds = [1, 2, 4, 7, 8]\n",
    "norm = mpl.colors.BoundaryNorm(bounds, cmap.N)\n",
    "fig.colorbar(\n",
    "    mpl.cm.ScalarMappable(cmap=newcmp, norm=norm),\n",
    "    cax=ax,\n",
    "    boundaries=[0] + bounds + [13],  # Adding values for extensions.\n",
    "#     extend='both',\n",
    "    ticks=bounds,\n",
    "    spacing='uniform',\n",
    "    orientation='horizontal',\n",
    "    label='Discrete intervals, some other units',\n",
    ")"
   ]
  },
  {
   "cell_type": "code",
   "execution_count": 104,
   "id": "78e04945",
   "metadata": {},
   "outputs": [
    {
     "data": {
      "image/png": "[encoded data removed]",
      "text/plain": [
       "<Figure size 432x72 with 1 Axes>"
      ]
     },
     "metadata": {
      "needs_background": "light"
     },
     "output_type": "display_data"
    }
   ],
   "source": [
    "import matplotlib.pyplot as plt\n",
    "import matplotlib as mpl\n",
    "import numpy as np\n",
    "fig, ax = plt.subplots(figsize=(6, 1))\n",
    "# cax1 = fig.add_axes([0.27, 0.8, 0.5, 0.05])\n",
    "# cax2 = fig.add_axes([0.27, 0.4, 0.5, 0.05])\n",
    "fig.subplots_adjust(bottom=0.5)\n",
    "fig.subplots_adjust(bottom=0.5)\n",
    "# cmap = mpl.cm.PuBu_r\n",
    "#后面加_r就是颜色reverse的意思\n",
    "# cmap = mpl.cm.PuBu\n",
    "#颜色参考\n",
    "#https://matplotlib.org/3.5.0/gallery/color/colormap_reference.html\n",
    "cmap = mpl.cm.BrBG\n",
    "# my_cmap_r = reverse_colourmap(cmap)\n",
    "# cmap = mpl.cm.viridis\n",
    "bounds= np.linspace(0,10,6)\n",
    "# bounds = [-1, 2, 5, 7, 12, 15]\n",
    "norm = mpl.colors.BoundaryNorm(bounds,\n",
    "                               cmap.N,\n",
    "                               extend='both'\n",
    "                              )\n",
    "\n",
    "cbar=fig.colorbar(mpl.cm.ScalarMappable(norm=norm, cmap=cmap),\n",
    "             cax=ax, orientation='horizontal',\n",
    "                  extendrect='True',\n",
    "                  extendfrac='auto',\n",
    "#                   extendrect='True',\n",
    "#                   boundaries=[-10] + bounds + [10],\n",
    "             label=\"Discrete intervals with extend='both' keyword\")\n",
    "\n",
    "plt.show()"
   ]
  },
  {
   "cell_type": "code",
   "execution_count": 14,
   "id": "a6a5451d",
   "metadata": {},
   "outputs": [
    {
     "data": {
      "image/png": "[encoded data removed]",
      "text/plain": [
       "<Figure size 432x72 with 1 Axes>"
      ]
     },
     "metadata": {
      "needs_background": "light"
     },
     "output_type": "display_data"
    }
   ],
   "source": [
    "from matplotlib import colors\n",
    "import numpy as np\n",
    "fig, ax = plt.subplots(figsize=(6, 1))\n",
    "# 定义颜色条\n",
    "cmap = colors.ListedColormap(['#ffffff',  # white\n",
    "                              '#F7FBFF',  # ghostwhite\n",
    "                              '#DEEBF7',  # lavender\n",
    "                              '#C6DBEF',  # lightskybule\n",
    "                              '#9ECAE1',  # deepskybule\n",
    "                              '#6BAED6',  # mediumpurple\n",
    "                              '#4292C6',  # slateblue\n",
    "                              '#2171B5',  # DarkSlateBlue\n",
    "                              '#08519C',  # indigo\n",
    "                              # '#08306B',  # midnightblue\n",
    "                              ])\n",
    "# bounds = np.nanpercentile(temp_discharge, q=np.arange(0.1, 1, 0.1))\n",
    "# bounds = np.insert(bounds, 0, 0)\n",
    "# bounds = np.append(bounds, 100000000)\n",
    "bounds = np.array([0, 1, 10, 20, 50, 100, 200, 500, 1000, 1000000])\n",
    "# bounds = np.array([0, 1, 10, 50, 100, 500, 1000, 5000, 10000, 50000, 1000000])\n",
    "norm = colors.BoundaryNorm(bounds, 10)\n",
    "\n",
    "cbar=fig.colorbar(mpl.cm.ScalarMappable(norm=norm, cmap=cmap),\n",
    "             cax=ax, \n",
    "                  orientation='horizontal',\n",
    "#                   extendrect='True',\n",
    "#                   extendfrac='auto',\n",
    "                  extend='max'\n",
    "#                   extendrect='True',\n",
    "#                   boundaries=[-10] + bounds + [10],\n",
    "#              label=\"Discrete intervals with extend='both' keyword\"\n",
    "                 )\n",
    "\n",
    "plt.show()"
   ]
  }
 ],
 "metadata": {
  "kernelspec": {
   "display_name": "Python 3",
   "language": "python",
   "name": "python3"
  },
  "language_info": {
   "codemirror_mode": {
    "name": "ipython",
    "version": 3
   },
   "file_extension": ".py",
   "mimetype": "text/x-python",
   "name": "python",
   "nbconvert_exporter": "python",
   "pygments_lexer": "ipython3",
   "version": "3.8.8"
  }
 },
 "nbformat": 4,
 "nbformat_minor": 5
}
